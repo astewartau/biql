{
 "cells": [
  {
   "cell_type": "markdown",
   "metadata": {},
   "source": [
    "# BIQL Tutorial Guide\n",
    "\n",
    "Welcome to the BIQL (BIDS Query Language) tutorial! This guide will walk you through\n",
    "using BIQL to query BIDS neuroimaging datasets. We'll start with basic queries and\n",
    "progressively explore more advanced features.\n",
    "\n",
    "## What is BIQL?\n",
    "\n",
    "BIQL is a SQL-like query language designed specifically for querying Brain Imaging \n",
    "Data Structure (BIDS) datasets. It allows you to:\n",
    "\n",
    "- Search for specific files based on BIDS entities (subject, session, task, etc.)\n",
    "- Filter data using metadata from JSON sidecars\n",
    "- Access participant information from participants.tsv\n",
    "- Perform aggregations and grouping operations\n",
    "- Export results in various formats\n",
    "\n",
    "## Prerequisites\n",
    "\n",
    "First, let's set up our environment and get the example data:"
   ]
  },
  {
   "cell_type": "code",
   "execution_count": 1,
   "metadata": {
    "execution": {
     "iopub.execute_input": "2025-07-01T23:36:38.397916Z",
     "iopub.status.busy": "2025-07-01T23:36:38.397750Z",
     "iopub.status.idle": "2025-07-01T23:36:42.357941Z",
     "shell.execute_reply": "2025-07-01T23:36:42.357323Z"
    }
   },
   "outputs": [],
   "source": [
    "import tempfile\n",
    "from pathlib import Path\n",
    "import sys\n",
    "\n",
    "# Install BIQL if running in Colab\n",
    "if 'google.colab' in sys.modules:\n",
    "    !pip install git+https://github.com/astewartau/biql.git > /dev/null 2>&1\n",
    "from biql import create_query_engine\n",
    "\n",
    "# Set up paths - use a temporary directory that works in different environments\n",
    "bids_examples_dir = Path(tempfile.gettempdir()) / \"bids-examples\"\n",
    "\n",
    "# Clone bids-examples if it doesn't exist\n",
    "if not bids_examples_dir.exists():\n",
    "    !git clone https://github.com/bids-standard/bids-examples.git {bids_examples_dir} > /dev/null 2>&1"
   ]
  },
  {
   "cell_type": "markdown",
   "metadata": {},
   "source": [
    "## Part 1: Basic Queries\n",
    "\n",
    "Let's start with the synthetic dataset from bids-examples. This is a simple dataset\n",
    "that's perfect for learning BIQL basics."
   ]
  },
  {
   "cell_type": "code",
   "execution_count": 2,
   "metadata": {
    "execution": {
     "iopub.execute_input": "2025-07-01T23:36:42.360423Z",
     "iopub.status.busy": "2025-07-01T23:36:42.360032Z",
     "iopub.status.idle": "2025-07-01T23:36:42.402936Z",
     "shell.execute_reply": "2025-07-01T23:36:42.402370Z"
    }
   },
   "outputs": [
    {
     "data": {
      "text/plain": [
       "{'total_files': 60,\n",
       " 'total_subjects': 5,\n",
       " 'files_by_datatype': {'anat': 10, 'func': 30, 'beh': 5},\n",
       " 'subjects': ['01', '02', '03', '04', '05'],\n",
       " 'datatypes': ['anat', 'beh', 'func']}"
      ]
     },
     "execution_count": 2,
     "metadata": {},
     "output_type": "execute_result"
    }
   ],
   "source": [
    "dataset_path = bids_examples_dir / \"synthetic\"\n",
    "q = create_query_engine(dataset_path)\n",
    "q.dataset_stats()"
   ]
  },
  {
   "cell_type": "markdown",
   "metadata": {},
   "source": [
    "### Simple Entity Queries\n",
    "\n",
    "The most basic BIQL queries filter files by BIDS entities. You can query by any\n",
    "BIDS entity that appears in your filenames:"
   ]
  },
  {
   "cell_type": "code",
   "execution_count": 3,
   "metadata": {
    "execution": {
     "iopub.execute_input": "2025-07-01T23:36:42.436052Z",
     "iopub.status.busy": "2025-07-01T23:36:42.435614Z",
     "iopub.status.idle": "2025-07-01T23:36:42.811938Z",
     "shell.execute_reply": "2025-07-01T23:36:42.811406Z"
    }
   },
   "outputs": [
    {
     "data": {
      "text/html": [
       "<div>\n",
       "<style scoped>\n",
       "    .dataframe tbody tr th:only-of-type {\n",
       "        vertical-align: middle;\n",
       "    }\n",
       "\n",
       "    .dataframe tbody tr th {\n",
       "        vertical-align: top;\n",
       "    }\n",
       "\n",
       "    .dataframe thead th {\n",
       "        text-align: right;\n",
       "    }\n",
       "</style>\n",
       "<table border=\"1\" class=\"dataframe\">\n",
       "  <thead>\n",
       "    <tr style=\"text-align: right;\">\n",
       "      <th></th>\n",
       "      <th>filepath</th>\n",
       "      <th>relative_path</th>\n",
       "      <th>filename</th>\n",
       "      <th>sub</th>\n",
       "      <th>ses</th>\n",
       "      <th>suffix</th>\n",
       "      <th>datatype</th>\n",
       "      <th>extension</th>\n",
       "      <th>metadata</th>\n",
       "      <th>participants</th>\n",
       "      <th>task</th>\n",
       "      <th>run</th>\n",
       "    </tr>\n",
       "  </thead>\n",
       "  <tbody>\n",
       "    <tr>\n",
       "      <th>0</th>\n",
       "      <td>/tmp/bids-examples/synthetic/sub-01/ses-02/ana...</td>\n",
       "      <td>sub-01/ses-02/anat/sub-01_ses-02_T1w.nii</td>\n",
       "      <td>sub-01_ses-02_T1w.nii</td>\n",
       "      <td>01</td>\n",
       "      <td>02</td>\n",
       "      <td>T1w</td>\n",
       "      <td>anat</td>\n",
       "      <td>.nii</td>\n",
       "      <td>{}</td>\n",
       "      <td>age=34; sex=F</td>\n",
       "      <td>NaN</td>\n",
       "      <td>NaN</td>\n",
       "    </tr>\n",
       "    <tr>\n",
       "      <th>1</th>\n",
       "      <td>/tmp/bids-examples/synthetic/sub-01/ses-02/fun...</td>\n",
       "      <td>sub-01/ses-02/func/sub-01_ses-02_task-nback_ru...</td>\n",
       "      <td>sub-01_ses-02_task-nback_run-02_bold.nii</td>\n",
       "      <td>01</td>\n",
       "      <td>02</td>\n",
       "      <td>bold</td>\n",
       "      <td>func</td>\n",
       "      <td>.nii</td>\n",
       "      <td>{}</td>\n",
       "      <td>age=34; sex=F</td>\n",
       "      <td>nback</td>\n",
       "      <td>02</td>\n",
       "    </tr>\n",
       "    <tr>\n",
       "      <th>2</th>\n",
       "      <td>/tmp/bids-examples/synthetic/sub-01/ses-02/fun...</td>\n",
       "      <td>sub-01/ses-02/func/sub-01_ses-02_task-nback_ru...</td>\n",
       "      <td>sub-01_ses-02_task-nback_run-01_bold.nii</td>\n",
       "      <td>01</td>\n",
       "      <td>02</td>\n",
       "      <td>bold</td>\n",
       "      <td>func</td>\n",
       "      <td>.nii</td>\n",
       "      <td>{}</td>\n",
       "      <td>age=34; sex=F</td>\n",
       "      <td>nback</td>\n",
       "      <td>01</td>\n",
       "    </tr>\n",
       "    <tr>\n",
       "      <th>3</th>\n",
       "      <td>/tmp/bids-examples/synthetic/sub-01/ses-02/fun...</td>\n",
       "      <td>sub-01/ses-02/func/sub-01_ses-02_task-rest_bol...</td>\n",
       "      <td>sub-01_ses-02_task-rest_bold.nii</td>\n",
       "      <td>01</td>\n",
       "      <td>02</td>\n",
       "      <td>bold</td>\n",
       "      <td>func</td>\n",
       "      <td>.nii</td>\n",
       "      <td>{}</td>\n",
       "      <td>age=34; sex=F</td>\n",
       "      <td>rest</td>\n",
       "      <td>NaN</td>\n",
       "    </tr>\n",
       "    <tr>\n",
       "      <th>4</th>\n",
       "      <td>/tmp/bids-examples/synthetic/sub-01/ses-01/ana...</td>\n",
       "      <td>sub-01/ses-01/anat/sub-01_ses-01_T1w.nii</td>\n",
       "      <td>sub-01_ses-01_T1w.nii</td>\n",
       "      <td>01</td>\n",
       "      <td>01</td>\n",
       "      <td>T1w</td>\n",
       "      <td>anat</td>\n",
       "      <td>.nii</td>\n",
       "      <td>{}</td>\n",
       "      <td>age=34; sex=F</td>\n",
       "      <td>NaN</td>\n",
       "      <td>NaN</td>\n",
       "    </tr>\n",
       "  </tbody>\n",
       "</table>\n",
       "</div>"
      ],
      "text/plain": [
       "                                            filepath  \\\n",
       "0  /tmp/bids-examples/synthetic/sub-01/ses-02/ana...   \n",
       "1  /tmp/bids-examples/synthetic/sub-01/ses-02/fun...   \n",
       "2  /tmp/bids-examples/synthetic/sub-01/ses-02/fun...   \n",
       "3  /tmp/bids-examples/synthetic/sub-01/ses-02/fun...   \n",
       "4  /tmp/bids-examples/synthetic/sub-01/ses-01/ana...   \n",
       "\n",
       "                                       relative_path  \\\n",
       "0           sub-01/ses-02/anat/sub-01_ses-02_T1w.nii   \n",
       "1  sub-01/ses-02/func/sub-01_ses-02_task-nback_ru...   \n",
       "2  sub-01/ses-02/func/sub-01_ses-02_task-nback_ru...   \n",
       "3  sub-01/ses-02/func/sub-01_ses-02_task-rest_bol...   \n",
       "4           sub-01/ses-01/anat/sub-01_ses-01_T1w.nii   \n",
       "\n",
       "                                   filename sub ses suffix datatype extension  \\\n",
       "0                     sub-01_ses-02_T1w.nii  01  02    T1w     anat      .nii   \n",
       "1  sub-01_ses-02_task-nback_run-02_bold.nii  01  02   bold     func      .nii   \n",
       "2  sub-01_ses-02_task-nback_run-01_bold.nii  01  02   bold     func      .nii   \n",
       "3          sub-01_ses-02_task-rest_bold.nii  01  02   bold     func      .nii   \n",
       "4                     sub-01_ses-01_T1w.nii  01  01    T1w     anat      .nii   \n",
       "\n",
       "  metadata   participants   task  run  \n",
       "0       {}  age=34; sex=F    NaN  NaN  \n",
       "1       {}  age=34; sex=F  nback   02  \n",
       "2       {}  age=34; sex=F  nback   01  \n",
       "3       {}  age=34; sex=F   rest  NaN  \n",
       "4       {}  age=34; sex=F    NaN  NaN  "
      ]
     },
     "execution_count": 3,
     "metadata": {},
     "output_type": "execute_result"
    }
   ],
   "source": [
    "q.run_query(\"sub=01\", format=\"dataframe\").head(5)"
   ]
  },
  {
   "cell_type": "code",
   "execution_count": 4,
   "metadata": {
    "execution": {
     "iopub.execute_input": "2025-07-01T23:36:42.813751Z",
     "iopub.status.busy": "2025-07-01T23:36:42.813538Z",
     "iopub.status.idle": "2025-07-01T23:36:42.817667Z",
     "shell.execute_reply": "2025-07-01T23:36:42.817202Z"
    }
   },
   "outputs": [
    {
     "data": {
      "text/plain": [
       "30"
      ]
     },
     "execution_count": 4,
     "metadata": {},
     "output_type": "execute_result"
    }
   ],
   "source": [
    "results = q.run_query(\"datatype=func\")\n",
    "len(results)  # Number of functional files"
   ]
  },
  {
   "cell_type": "code",
   "execution_count": 5,
   "metadata": {
    "execution": {
     "iopub.execute_input": "2025-07-01T23:36:42.819309Z",
     "iopub.status.busy": "2025-07-01T23:36:42.819120Z",
     "iopub.status.idle": "2025-07-01T23:36:42.824570Z",
     "shell.execute_reply": "2025-07-01T23:36:42.823986Z"
    }
   },
   "outputs": [
    {
     "data": {
      "text/html": [
       "<div>\n",
       "<style scoped>\n",
       "    .dataframe tbody tr th:only-of-type {\n",
       "        vertical-align: middle;\n",
       "    }\n",
       "\n",
       "    .dataframe tbody tr th {\n",
       "        vertical-align: top;\n",
       "    }\n",
       "\n",
       "    .dataframe thead th {\n",
       "        text-align: right;\n",
       "    }\n",
       "</style>\n",
       "<table border=\"1\" class=\"dataframe\">\n",
       "  <thead>\n",
       "    <tr style=\"text-align: right;\">\n",
       "      <th></th>\n",
       "      <th>task</th>\n",
       "    </tr>\n",
       "  </thead>\n",
       "  <tbody>\n",
       "    <tr>\n",
       "      <th>0</th>\n",
       "      <td>nback</td>\n",
       "    </tr>\n",
       "    <tr>\n",
       "      <th>1</th>\n",
       "      <td>rest</td>\n",
       "    </tr>\n",
       "  </tbody>\n",
       "</table>\n",
       "</div>"
      ],
      "text/plain": [
       "    task\n",
       "0  nback\n",
       "1   rest"
      ]
     },
     "execution_count": 5,
     "metadata": {},
     "output_type": "execute_result"
    }
   ],
   "source": [
    "q.run_query(\"SELECT DISTINCT task WHERE datatype=func\", format=\"dataframe\")"
   ]
  },
  {
   "cell_type": "markdown",
   "metadata": {},
   "source": [
    "### Combining Conditions\n",
    "\n",
    "You can combine multiple conditions using AND, OR, and NOT operators:"
   ]
  },
  {
   "cell_type": "code",
   "execution_count": 6,
   "metadata": {
    "execution": {
     "iopub.execute_input": "2025-07-01T23:36:42.826377Z",
     "iopub.status.busy": "2025-07-01T23:36:42.826178Z",
     "iopub.status.idle": "2025-07-01T23:36:42.834676Z",
     "shell.execute_reply": "2025-07-01T23:36:42.834106Z"
    }
   },
   "outputs": [
    {
     "data": {
      "text/html": [
       "<div>\n",
       "<style scoped>\n",
       "    .dataframe tbody tr th:only-of-type {\n",
       "        vertical-align: middle;\n",
       "    }\n",
       "\n",
       "    .dataframe tbody tr th {\n",
       "        vertical-align: top;\n",
       "    }\n",
       "\n",
       "    .dataframe thead th {\n",
       "        text-align: right;\n",
       "    }\n",
       "</style>\n",
       "<table border=\"1\" class=\"dataframe\">\n",
       "  <thead>\n",
       "    <tr style=\"text-align: right;\">\n",
       "      <th></th>\n",
       "      <th>filepath</th>\n",
       "      <th>relative_path</th>\n",
       "      <th>filename</th>\n",
       "      <th>sub</th>\n",
       "      <th>ses</th>\n",
       "      <th>suffix</th>\n",
       "      <th>datatype</th>\n",
       "      <th>extension</th>\n",
       "      <th>metadata</th>\n",
       "      <th>participants</th>\n",
       "    </tr>\n",
       "  </thead>\n",
       "  <tbody>\n",
       "    <tr>\n",
       "      <th>0</th>\n",
       "      <td>/tmp/bids-examples/synthetic/sub-01/ses-02/ana...</td>\n",
       "      <td>sub-01/ses-02/anat/sub-01_ses-02_T1w.nii</td>\n",
       "      <td>sub-01_ses-02_T1w.nii</td>\n",
       "      <td>01</td>\n",
       "      <td>02</td>\n",
       "      <td>T1w</td>\n",
       "      <td>anat</td>\n",
       "      <td>.nii</td>\n",
       "      <td>{}</td>\n",
       "      <td>age=34; sex=F</td>\n",
       "    </tr>\n",
       "    <tr>\n",
       "      <th>1</th>\n",
       "      <td>/tmp/bids-examples/synthetic/sub-01/ses-01/ana...</td>\n",
       "      <td>sub-01/ses-01/anat/sub-01_ses-01_T1w.nii</td>\n",
       "      <td>sub-01_ses-01_T1w.nii</td>\n",
       "      <td>01</td>\n",
       "      <td>01</td>\n",
       "      <td>T1w</td>\n",
       "      <td>anat</td>\n",
       "      <td>.nii</td>\n",
       "      <td>{}</td>\n",
       "      <td>age=34; sex=F</td>\n",
       "    </tr>\n",
       "    <tr>\n",
       "      <th>2</th>\n",
       "      <td>/tmp/bids-examples/synthetic/sub-04/ses-02/ana...</td>\n",
       "      <td>sub-04/ses-02/anat/sub-04_ses-02_T1w.nii</td>\n",
       "      <td>sub-04_ses-02_T1w.nii</td>\n",
       "      <td>04</td>\n",
       "      <td>02</td>\n",
       "      <td>T1w</td>\n",
       "      <td>anat</td>\n",
       "      <td>.nii</td>\n",
       "      <td>{}</td>\n",
       "      <td>age=21; sex=F</td>\n",
       "    </tr>\n",
       "    <tr>\n",
       "      <th>3</th>\n",
       "      <td>/tmp/bids-examples/synthetic/sub-04/ses-01/ana...</td>\n",
       "      <td>sub-04/ses-01/anat/sub-04_ses-01_T1w.nii</td>\n",
       "      <td>sub-04_ses-01_T1w.nii</td>\n",
       "      <td>04</td>\n",
       "      <td>01</td>\n",
       "      <td>T1w</td>\n",
       "      <td>anat</td>\n",
       "      <td>.nii</td>\n",
       "      <td>{}</td>\n",
       "      <td>age=21; sex=F</td>\n",
       "    </tr>\n",
       "    <tr>\n",
       "      <th>4</th>\n",
       "      <td>/tmp/bids-examples/synthetic/sub-05/ses-02/ana...</td>\n",
       "      <td>sub-05/ses-02/anat/sub-05_ses-02_T1w.nii</td>\n",
       "      <td>sub-05_ses-02_T1w.nii</td>\n",
       "      <td>05</td>\n",
       "      <td>02</td>\n",
       "      <td>T1w</td>\n",
       "      <td>anat</td>\n",
       "      <td>.nii</td>\n",
       "      <td>{}</td>\n",
       "      <td>age=42; sex=M</td>\n",
       "    </tr>\n",
       "  </tbody>\n",
       "</table>\n",
       "</div>"
      ],
      "text/plain": [
       "                                            filepath  \\\n",
       "0  /tmp/bids-examples/synthetic/sub-01/ses-02/ana...   \n",
       "1  /tmp/bids-examples/synthetic/sub-01/ses-01/ana...   \n",
       "2  /tmp/bids-examples/synthetic/sub-04/ses-02/ana...   \n",
       "3  /tmp/bids-examples/synthetic/sub-04/ses-01/ana...   \n",
       "4  /tmp/bids-examples/synthetic/sub-05/ses-02/ana...   \n",
       "\n",
       "                              relative_path               filename sub ses  \\\n",
       "0  sub-01/ses-02/anat/sub-01_ses-02_T1w.nii  sub-01_ses-02_T1w.nii  01  02   \n",
       "1  sub-01/ses-01/anat/sub-01_ses-01_T1w.nii  sub-01_ses-01_T1w.nii  01  01   \n",
       "2  sub-04/ses-02/anat/sub-04_ses-02_T1w.nii  sub-04_ses-02_T1w.nii  04  02   \n",
       "3  sub-04/ses-01/anat/sub-04_ses-01_T1w.nii  sub-04_ses-01_T1w.nii  04  01   \n",
       "4  sub-05/ses-02/anat/sub-05_ses-02_T1w.nii  sub-05_ses-02_T1w.nii  05  02   \n",
       "\n",
       "  suffix datatype extension metadata   participants  \n",
       "0    T1w     anat      .nii       {}  age=34; sex=F  \n",
       "1    T1w     anat      .nii       {}  age=34; sex=F  \n",
       "2    T1w     anat      .nii       {}  age=21; sex=F  \n",
       "3    T1w     anat      .nii       {}  age=21; sex=F  \n",
       "4    T1w     anat      .nii       {}  age=42; sex=M  "
      ]
     },
     "execution_count": 6,
     "metadata": {},
     "output_type": "execute_result"
    }
   ],
   "source": [
    "q.run_query(\"datatype=anat AND suffix=T1w\", format=\"dataframe\").head(5)"
   ]
  },
  {
   "cell_type": "code",
   "execution_count": 7,
   "metadata": {
    "execution": {
     "iopub.execute_input": "2025-07-01T23:36:42.836289Z",
     "iopub.status.busy": "2025-07-01T23:36:42.836098Z",
     "iopub.status.idle": "2025-07-01T23:36:42.845152Z",
     "shell.execute_reply": "2025-07-01T23:36:42.844604Z"
    }
   },
   "outputs": [
    {
     "data": {
      "text/html": [
       "<div>\n",
       "<style scoped>\n",
       "    .dataframe tbody tr th:only-of-type {\n",
       "        vertical-align: middle;\n",
       "    }\n",
       "\n",
       "    .dataframe tbody tr th {\n",
       "        vertical-align: top;\n",
       "    }\n",
       "\n",
       "    .dataframe thead th {\n",
       "        text-align: right;\n",
       "    }\n",
       "</style>\n",
       "<table border=\"1\" class=\"dataframe\">\n",
       "  <thead>\n",
       "    <tr style=\"text-align: right;\">\n",
       "      <th></th>\n",
       "      <th>filepath</th>\n",
       "      <th>relative_path</th>\n",
       "      <th>filename</th>\n",
       "      <th>sub</th>\n",
       "      <th>ses</th>\n",
       "      <th>task</th>\n",
       "      <th>run</th>\n",
       "      <th>suffix</th>\n",
       "      <th>datatype</th>\n",
       "      <th>extension</th>\n",
       "      <th>metadata</th>\n",
       "      <th>participants</th>\n",
       "    </tr>\n",
       "  </thead>\n",
       "  <tbody>\n",
       "    <tr>\n",
       "      <th>0</th>\n",
       "      <td>/tmp/bids-examples/synthetic/sub-01/ses-02/fun...</td>\n",
       "      <td>sub-01/ses-02/func/sub-01_ses-02_task-nback_ru...</td>\n",
       "      <td>sub-01_ses-02_task-nback_run-02_bold.nii</td>\n",
       "      <td>01</td>\n",
       "      <td>02</td>\n",
       "      <td>nback</td>\n",
       "      <td>02</td>\n",
       "      <td>bold</td>\n",
       "      <td>func</td>\n",
       "      <td>.nii</td>\n",
       "      <td>{}</td>\n",
       "      <td>age=34; sex=F</td>\n",
       "    </tr>\n",
       "    <tr>\n",
       "      <th>1</th>\n",
       "      <td>/tmp/bids-examples/synthetic/sub-01/ses-02/fun...</td>\n",
       "      <td>sub-01/ses-02/func/sub-01_ses-02_task-nback_ru...</td>\n",
       "      <td>sub-01_ses-02_task-nback_run-01_bold.nii</td>\n",
       "      <td>01</td>\n",
       "      <td>02</td>\n",
       "      <td>nback</td>\n",
       "      <td>01</td>\n",
       "      <td>bold</td>\n",
       "      <td>func</td>\n",
       "      <td>.nii</td>\n",
       "      <td>{}</td>\n",
       "      <td>age=34; sex=F</td>\n",
       "    </tr>\n",
       "    <tr>\n",
       "      <th>2</th>\n",
       "      <td>/tmp/bids-examples/synthetic/sub-01/ses-02/fun...</td>\n",
       "      <td>sub-01/ses-02/func/sub-01_ses-02_task-rest_bol...</td>\n",
       "      <td>sub-01_ses-02_task-rest_bold.nii</td>\n",
       "      <td>01</td>\n",
       "      <td>02</td>\n",
       "      <td>rest</td>\n",
       "      <td>NaN</td>\n",
       "      <td>bold</td>\n",
       "      <td>func</td>\n",
       "      <td>.nii</td>\n",
       "      <td>{}</td>\n",
       "      <td>age=34; sex=F</td>\n",
       "    </tr>\n",
       "    <tr>\n",
       "      <th>3</th>\n",
       "      <td>/tmp/bids-examples/synthetic/sub-01/ses-01/fun...</td>\n",
       "      <td>sub-01/ses-01/func/sub-01_ses-01_task-nback_ru...</td>\n",
       "      <td>sub-01_ses-01_task-nback_run-02_bold.nii</td>\n",
       "      <td>01</td>\n",
       "      <td>01</td>\n",
       "      <td>nback</td>\n",
       "      <td>02</td>\n",
       "      <td>bold</td>\n",
       "      <td>func</td>\n",
       "      <td>.nii</td>\n",
       "      <td>{}</td>\n",
       "      <td>age=34; sex=F</td>\n",
       "    </tr>\n",
       "    <tr>\n",
       "      <th>4</th>\n",
       "      <td>/tmp/bids-examples/synthetic/sub-01/ses-01/fun...</td>\n",
       "      <td>sub-01/ses-01/func/sub-01_ses-01_task-rest_bol...</td>\n",
       "      <td>sub-01_ses-01_task-rest_bold.nii</td>\n",
       "      <td>01</td>\n",
       "      <td>01</td>\n",
       "      <td>rest</td>\n",
       "      <td>NaN</td>\n",
       "      <td>bold</td>\n",
       "      <td>func</td>\n",
       "      <td>.nii</td>\n",
       "      <td>{}</td>\n",
       "      <td>age=34; sex=F</td>\n",
       "    </tr>\n",
       "  </tbody>\n",
       "</table>\n",
       "</div>"
      ],
      "text/plain": [
       "                                            filepath  \\\n",
       "0  /tmp/bids-examples/synthetic/sub-01/ses-02/fun...   \n",
       "1  /tmp/bids-examples/synthetic/sub-01/ses-02/fun...   \n",
       "2  /tmp/bids-examples/synthetic/sub-01/ses-02/fun...   \n",
       "3  /tmp/bids-examples/synthetic/sub-01/ses-01/fun...   \n",
       "4  /tmp/bids-examples/synthetic/sub-01/ses-01/fun...   \n",
       "\n",
       "                                       relative_path  \\\n",
       "0  sub-01/ses-02/func/sub-01_ses-02_task-nback_ru...   \n",
       "1  sub-01/ses-02/func/sub-01_ses-02_task-nback_ru...   \n",
       "2  sub-01/ses-02/func/sub-01_ses-02_task-rest_bol...   \n",
       "3  sub-01/ses-01/func/sub-01_ses-01_task-nback_ru...   \n",
       "4  sub-01/ses-01/func/sub-01_ses-01_task-rest_bol...   \n",
       "\n",
       "                                   filename sub ses   task  run suffix  \\\n",
       "0  sub-01_ses-02_task-nback_run-02_bold.nii  01  02  nback   02   bold   \n",
       "1  sub-01_ses-02_task-nback_run-01_bold.nii  01  02  nback   01   bold   \n",
       "2          sub-01_ses-02_task-rest_bold.nii  01  02   rest  NaN   bold   \n",
       "3  sub-01_ses-01_task-nback_run-02_bold.nii  01  01  nback   02   bold   \n",
       "4          sub-01_ses-01_task-rest_bold.nii  01  01   rest  NaN   bold   \n",
       "\n",
       "  datatype extension metadata   participants  \n",
       "0     func      .nii       {}  age=34; sex=F  \n",
       "1     func      .nii       {}  age=34; sex=F  \n",
       "2     func      .nii       {}  age=34; sex=F  \n",
       "3     func      .nii       {}  age=34; sex=F  \n",
       "4     func      .nii       {}  age=34; sex=F  "
      ]
     },
     "execution_count": 7,
     "metadata": {},
     "output_type": "execute_result"
    }
   ],
   "source": [
    "q.run_query(\"task=nback OR task=rest\", format=\"dataframe\").head(5)"
   ]
  },
  {
   "cell_type": "markdown",
   "metadata": {},
   "source": [
    "### Using WHERE Clause\n",
    "\n",
    "For more SQL-like queries, you can use the WHERE clause:"
   ]
  },
  {
   "cell_type": "code",
   "execution_count": 8,
   "metadata": {
    "execution": {
     "iopub.execute_input": "2025-07-01T23:36:42.846853Z",
     "iopub.status.busy": "2025-07-01T23:36:42.846681Z",
     "iopub.status.idle": "2025-07-01T23:36:42.855526Z",
     "shell.execute_reply": "2025-07-01T23:36:42.855073Z"
    }
   },
   "outputs": [
    {
     "data": {
      "text/html": [
       "<div>\n",
       "<style scoped>\n",
       "    .dataframe tbody tr th:only-of-type {\n",
       "        vertical-align: middle;\n",
       "    }\n",
       "\n",
       "    .dataframe tbody tr th {\n",
       "        vertical-align: top;\n",
       "    }\n",
       "\n",
       "    .dataframe thead th {\n",
       "        text-align: right;\n",
       "    }\n",
       "</style>\n",
       "<table border=\"1\" class=\"dataframe\">\n",
       "  <thead>\n",
       "    <tr style=\"text-align: right;\">\n",
       "      <th></th>\n",
       "      <th>filepath</th>\n",
       "      <th>relative_path</th>\n",
       "      <th>filename</th>\n",
       "      <th>sub</th>\n",
       "      <th>ses</th>\n",
       "      <th>task</th>\n",
       "      <th>run</th>\n",
       "      <th>suffix</th>\n",
       "      <th>datatype</th>\n",
       "      <th>extension</th>\n",
       "      <th>metadata</th>\n",
       "      <th>participants</th>\n",
       "    </tr>\n",
       "  </thead>\n",
       "  <tbody>\n",
       "    <tr>\n",
       "      <th>0</th>\n",
       "      <td>/tmp/bids-examples/synthetic/sub-01/ses-02/fun...</td>\n",
       "      <td>sub-01/ses-02/func/sub-01_ses-02_task-nback_ru...</td>\n",
       "      <td>sub-01_ses-02_task-nback_run-02_bold.nii</td>\n",
       "      <td>01</td>\n",
       "      <td>02</td>\n",
       "      <td>nback</td>\n",
       "      <td>02</td>\n",
       "      <td>bold</td>\n",
       "      <td>func</td>\n",
       "      <td>.nii</td>\n",
       "      <td>{}</td>\n",
       "      <td>age=34; sex=F</td>\n",
       "    </tr>\n",
       "    <tr>\n",
       "      <th>1</th>\n",
       "      <td>/tmp/bids-examples/synthetic/sub-01/ses-02/fun...</td>\n",
       "      <td>sub-01/ses-02/func/sub-01_ses-02_task-nback_ru...</td>\n",
       "      <td>sub-01_ses-02_task-nback_run-01_bold.nii</td>\n",
       "      <td>01</td>\n",
       "      <td>02</td>\n",
       "      <td>nback</td>\n",
       "      <td>01</td>\n",
       "      <td>bold</td>\n",
       "      <td>func</td>\n",
       "      <td>.nii</td>\n",
       "      <td>{}</td>\n",
       "      <td>age=34; sex=F</td>\n",
       "    </tr>\n",
       "    <tr>\n",
       "      <th>2</th>\n",
       "      <td>/tmp/bids-examples/synthetic/sub-01/ses-02/fun...</td>\n",
       "      <td>sub-01/ses-02/func/sub-01_ses-02_task-rest_bol...</td>\n",
       "      <td>sub-01_ses-02_task-rest_bold.nii</td>\n",
       "      <td>01</td>\n",
       "      <td>02</td>\n",
       "      <td>rest</td>\n",
       "      <td>NaN</td>\n",
       "      <td>bold</td>\n",
       "      <td>func</td>\n",
       "      <td>.nii</td>\n",
       "      <td>{}</td>\n",
       "      <td>age=34; sex=F</td>\n",
       "    </tr>\n",
       "    <tr>\n",
       "      <th>3</th>\n",
       "      <td>/tmp/bids-examples/synthetic/sub-01/ses-01/fun...</td>\n",
       "      <td>sub-01/ses-01/func/sub-01_ses-01_task-nback_ru...</td>\n",
       "      <td>sub-01_ses-01_task-nback_run-02_bold.nii</td>\n",
       "      <td>01</td>\n",
       "      <td>01</td>\n",
       "      <td>nback</td>\n",
       "      <td>02</td>\n",
       "      <td>bold</td>\n",
       "      <td>func</td>\n",
       "      <td>.nii</td>\n",
       "      <td>{}</td>\n",
       "      <td>age=34; sex=F</td>\n",
       "    </tr>\n",
       "    <tr>\n",
       "      <th>4</th>\n",
       "      <td>/tmp/bids-examples/synthetic/sub-01/ses-01/fun...</td>\n",
       "      <td>sub-01/ses-01/func/sub-01_ses-01_task-rest_bol...</td>\n",
       "      <td>sub-01_ses-01_task-rest_bold.nii</td>\n",
       "      <td>01</td>\n",
       "      <td>01</td>\n",
       "      <td>rest</td>\n",
       "      <td>NaN</td>\n",
       "      <td>bold</td>\n",
       "      <td>func</td>\n",
       "      <td>.nii</td>\n",
       "      <td>{}</td>\n",
       "      <td>age=34; sex=F</td>\n",
       "    </tr>\n",
       "    <tr>\n",
       "      <th>5</th>\n",
       "      <td>/tmp/bids-examples/synthetic/sub-01/ses-01/fun...</td>\n",
       "      <td>sub-01/ses-01/func/sub-01_ses-01_task-nback_ru...</td>\n",
       "      <td>sub-01_ses-01_task-nback_run-01_bold.nii</td>\n",
       "      <td>01</td>\n",
       "      <td>01</td>\n",
       "      <td>nback</td>\n",
       "      <td>01</td>\n",
       "      <td>bold</td>\n",
       "      <td>func</td>\n",
       "      <td>.nii</td>\n",
       "      <td>{}</td>\n",
       "      <td>age=34; sex=F</td>\n",
       "    </tr>\n",
       "  </tbody>\n",
       "</table>\n",
       "</div>"
      ],
      "text/plain": [
       "                                            filepath  \\\n",
       "0  /tmp/bids-examples/synthetic/sub-01/ses-02/fun...   \n",
       "1  /tmp/bids-examples/synthetic/sub-01/ses-02/fun...   \n",
       "2  /tmp/bids-examples/synthetic/sub-01/ses-02/fun...   \n",
       "3  /tmp/bids-examples/synthetic/sub-01/ses-01/fun...   \n",
       "4  /tmp/bids-examples/synthetic/sub-01/ses-01/fun...   \n",
       "5  /tmp/bids-examples/synthetic/sub-01/ses-01/fun...   \n",
       "\n",
       "                                       relative_path  \\\n",
       "0  sub-01/ses-02/func/sub-01_ses-02_task-nback_ru...   \n",
       "1  sub-01/ses-02/func/sub-01_ses-02_task-nback_ru...   \n",
       "2  sub-01/ses-02/func/sub-01_ses-02_task-rest_bol...   \n",
       "3  sub-01/ses-01/func/sub-01_ses-01_task-nback_ru...   \n",
       "4  sub-01/ses-01/func/sub-01_ses-01_task-rest_bol...   \n",
       "5  sub-01/ses-01/func/sub-01_ses-01_task-nback_ru...   \n",
       "\n",
       "                                   filename sub ses   task  run suffix  \\\n",
       "0  sub-01_ses-02_task-nback_run-02_bold.nii  01  02  nback   02   bold   \n",
       "1  sub-01_ses-02_task-nback_run-01_bold.nii  01  02  nback   01   bold   \n",
       "2          sub-01_ses-02_task-rest_bold.nii  01  02   rest  NaN   bold   \n",
       "3  sub-01_ses-01_task-nback_run-02_bold.nii  01  01  nback   02   bold   \n",
       "4          sub-01_ses-01_task-rest_bold.nii  01  01   rest  NaN   bold   \n",
       "5  sub-01_ses-01_task-nback_run-01_bold.nii  01  01  nback   01   bold   \n",
       "\n",
       "  datatype extension metadata   participants  \n",
       "0     func      .nii       {}  age=34; sex=F  \n",
       "1     func      .nii       {}  age=34; sex=F  \n",
       "2     func      .nii       {}  age=34; sex=F  \n",
       "3     func      .nii       {}  age=34; sex=F  \n",
       "4     func      .nii       {}  age=34; sex=F  \n",
       "5     func      .nii       {}  age=34; sex=F  "
      ]
     },
     "execution_count": 8,
     "metadata": {},
     "output_type": "execute_result"
    }
   ],
   "source": [
    "q.run_query(\"WHERE sub=01 AND datatype=func\", format=\"dataframe\")"
   ]
  },
  {
   "cell_type": "markdown",
   "metadata": {},
   "source": [
    "## Part 2: SELECT Clause and Field Selection\n",
    "\n",
    "By default, BIQL returns all available fields. Use SELECT to choose specific fields:"
   ]
  },
  {
   "cell_type": "code",
   "execution_count": 9,
   "metadata": {
    "execution": {
     "iopub.execute_input": "2025-07-01T23:36:42.857173Z",
     "iopub.status.busy": "2025-07-01T23:36:42.857010Z",
     "iopub.status.idle": "2025-07-01T23:36:42.863558Z",
     "shell.execute_reply": "2025-07-01T23:36:42.862980Z"
    }
   },
   "outputs": [
    {
     "data": {
      "text/html": [
       "<div>\n",
       "<style scoped>\n",
       "    .dataframe tbody tr th:only-of-type {\n",
       "        vertical-align: middle;\n",
       "    }\n",
       "\n",
       "    .dataframe tbody tr th {\n",
       "        vertical-align: top;\n",
       "    }\n",
       "\n",
       "    .dataframe thead th {\n",
       "        text-align: right;\n",
       "    }\n",
       "</style>\n",
       "<table border=\"1\" class=\"dataframe\">\n",
       "  <thead>\n",
       "    <tr style=\"text-align: right;\">\n",
       "      <th></th>\n",
       "      <th>sub</th>\n",
       "      <th>task</th>\n",
       "      <th>run</th>\n",
       "      <th>filename</th>\n",
       "    </tr>\n",
       "  </thead>\n",
       "  <tbody>\n",
       "    <tr>\n",
       "      <th>0</th>\n",
       "      <td>01</td>\n",
       "      <td>nback</td>\n",
       "      <td>02</td>\n",
       "      <td>sub-01_ses-02_task-nback_run-02_bold.nii</td>\n",
       "    </tr>\n",
       "    <tr>\n",
       "      <th>1</th>\n",
       "      <td>01</td>\n",
       "      <td>nback</td>\n",
       "      <td>01</td>\n",
       "      <td>sub-01_ses-02_task-nback_run-01_bold.nii</td>\n",
       "    </tr>\n",
       "    <tr>\n",
       "      <th>2</th>\n",
       "      <td>01</td>\n",
       "      <td>rest</td>\n",
       "      <td>None</td>\n",
       "      <td>sub-01_ses-02_task-rest_bold.nii</td>\n",
       "    </tr>\n",
       "    <tr>\n",
       "      <th>3</th>\n",
       "      <td>01</td>\n",
       "      <td>nback</td>\n",
       "      <td>02</td>\n",
       "      <td>sub-01_ses-01_task-nback_run-02_bold.nii</td>\n",
       "    </tr>\n",
       "    <tr>\n",
       "      <th>4</th>\n",
       "      <td>01</td>\n",
       "      <td>rest</td>\n",
       "      <td>None</td>\n",
       "      <td>sub-01_ses-01_task-rest_bold.nii</td>\n",
       "    </tr>\n",
       "  </tbody>\n",
       "</table>\n",
       "</div>"
      ],
      "text/plain": [
       "  sub   task   run                                  filename\n",
       "0  01  nback    02  sub-01_ses-02_task-nback_run-02_bold.nii\n",
       "1  01  nback    01  sub-01_ses-02_task-nback_run-01_bold.nii\n",
       "2  01   rest  None          sub-01_ses-02_task-rest_bold.nii\n",
       "3  01  nback    02  sub-01_ses-01_task-nback_run-02_bold.nii\n",
       "4  01   rest  None          sub-01_ses-01_task-rest_bold.nii"
      ]
     },
     "execution_count": 9,
     "metadata": {},
     "output_type": "execute_result"
    }
   ],
   "source": [
    "q.run_query(\n",
    "    \"SELECT sub, task, run, filename WHERE datatype=func\",\n",
    "    format=\"dataframe\"\n",
    ").head(5)"
   ]
  },
  {
   "cell_type": "code",
   "execution_count": 10,
   "metadata": {
    "execution": {
     "iopub.execute_input": "2025-07-01T23:36:42.865179Z",
     "iopub.status.busy": "2025-07-01T23:36:42.865014Z",
     "iopub.status.idle": "2025-07-01T23:36:42.870726Z",
     "shell.execute_reply": "2025-07-01T23:36:42.870134Z"
    }
   },
   "outputs": [
    {
     "data": {
      "text/html": [
       "<div>\n",
       "<style scoped>\n",
       "    .dataframe tbody tr th:only-of-type {\n",
       "        vertical-align: middle;\n",
       "    }\n",
       "\n",
       "    .dataframe tbody tr th {\n",
       "        vertical-align: top;\n",
       "    }\n",
       "\n",
       "    .dataframe thead th {\n",
       "        text-align: right;\n",
       "    }\n",
       "</style>\n",
       "<table border=\"1\" class=\"dataframe\">\n",
       "  <thead>\n",
       "    <tr style=\"text-align: right;\">\n",
       "      <th></th>\n",
       "      <th>sub</th>\n",
       "      <th>relative_path</th>\n",
       "    </tr>\n",
       "  </thead>\n",
       "  <tbody>\n",
       "    <tr>\n",
       "      <th>0</th>\n",
       "      <td>01</td>\n",
       "      <td>sub-01/ses-02/anat/sub-01_ses-02_T1w.nii</td>\n",
       "    </tr>\n",
       "    <tr>\n",
       "      <th>1</th>\n",
       "      <td>01</td>\n",
       "      <td>sub-01/ses-01/anat/sub-01_ses-01_T1w.nii</td>\n",
       "    </tr>\n",
       "    <tr>\n",
       "      <th>2</th>\n",
       "      <td>04</td>\n",
       "      <td>sub-04/ses-02/anat/sub-04_ses-02_T1w.nii</td>\n",
       "    </tr>\n",
       "    <tr>\n",
       "      <th>3</th>\n",
       "      <td>04</td>\n",
       "      <td>sub-04/ses-01/anat/sub-04_ses-01_T1w.nii</td>\n",
       "    </tr>\n",
       "    <tr>\n",
       "      <th>4</th>\n",
       "      <td>05</td>\n",
       "      <td>sub-05/ses-02/anat/sub-05_ses-02_T1w.nii</td>\n",
       "    </tr>\n",
       "    <tr>\n",
       "      <th>5</th>\n",
       "      <td>05</td>\n",
       "      <td>sub-05/ses-01/anat/sub-05_ses-01_T1w.nii</td>\n",
       "    </tr>\n",
       "    <tr>\n",
       "      <th>6</th>\n",
       "      <td>02</td>\n",
       "      <td>sub-02/ses-02/anat/sub-02_ses-02_T1w.nii</td>\n",
       "    </tr>\n",
       "    <tr>\n",
       "      <th>7</th>\n",
       "      <td>02</td>\n",
       "      <td>sub-02/ses-01/anat/sub-02_ses-01_T1w.nii</td>\n",
       "    </tr>\n",
       "    <tr>\n",
       "      <th>8</th>\n",
       "      <td>03</td>\n",
       "      <td>sub-03/ses-02/anat/sub-03_ses-02_T1w.nii</td>\n",
       "    </tr>\n",
       "    <tr>\n",
       "      <th>9</th>\n",
       "      <td>03</td>\n",
       "      <td>sub-03/ses-01/anat/sub-03_ses-01_T1w.nii</td>\n",
       "    </tr>\n",
       "  </tbody>\n",
       "</table>\n",
       "</div>"
      ],
      "text/plain": [
       "  sub                             relative_path\n",
       "0  01  sub-01/ses-02/anat/sub-01_ses-02_T1w.nii\n",
       "1  01  sub-01/ses-01/anat/sub-01_ses-01_T1w.nii\n",
       "2  04  sub-04/ses-02/anat/sub-04_ses-02_T1w.nii\n",
       "3  04  sub-04/ses-01/anat/sub-04_ses-01_T1w.nii\n",
       "4  05  sub-05/ses-02/anat/sub-05_ses-02_T1w.nii\n",
       "5  05  sub-05/ses-01/anat/sub-05_ses-01_T1w.nii\n",
       "6  02  sub-02/ses-02/anat/sub-02_ses-02_T1w.nii\n",
       "7  02  sub-02/ses-01/anat/sub-02_ses-01_T1w.nii\n",
       "8  03  sub-03/ses-02/anat/sub-03_ses-02_T1w.nii\n",
       "9  03  sub-03/ses-01/anat/sub-03_ses-01_T1w.nii"
      ]
     },
     "execution_count": 10,
     "metadata": {},
     "output_type": "execute_result"
    }
   ],
   "source": [
    "q.run_query(\n",
    "    \"SELECT sub, relative_path WHERE suffix=T1w\",\n",
    "    format=\"dataframe\"\n",
    ")"
   ]
  },
  {
   "cell_type": "markdown",
   "metadata": {},
   "source": [
    "## Part 3: Pattern Matching\n",
    "\n",
    "BIQL supports wildcards and regular expressions for flexible matching:"
   ]
  },
  {
   "cell_type": "code",
   "execution_count": 11,
   "metadata": {
    "execution": {
     "iopub.execute_input": "2025-07-01T23:36:42.872423Z",
     "iopub.status.busy": "2025-07-01T23:36:42.872257Z",
     "iopub.status.idle": "2025-07-01T23:36:42.876334Z",
     "shell.execute_reply": "2025-07-01T23:36:42.875767Z"
    }
   },
   "outputs": [
    {
     "data": {
      "text/plain": [
       "30"
      ]
     },
     "execution_count": 11,
     "metadata": {},
     "output_type": "execute_result"
    }
   ],
   "source": [
    "results = q.run_query(\"suffix=*bold*\")\n",
    "len(results)  # Count of files with 'bold' in suffix"
   ]
  },
  {
   "cell_type": "code",
   "execution_count": 12,
   "metadata": {
    "execution": {
     "iopub.execute_input": "2025-07-01T23:36:42.877878Z",
     "iopub.status.busy": "2025-07-01T23:36:42.877712Z",
     "iopub.status.idle": "2025-07-01T23:36:42.883079Z",
     "shell.execute_reply": "2025-07-01T23:36:42.882533Z"
    }
   },
   "outputs": [
    {
     "data": {
      "text/html": [
       "<div>\n",
       "<style scoped>\n",
       "    .dataframe tbody tr th:only-of-type {\n",
       "        vertical-align: middle;\n",
       "    }\n",
       "\n",
       "    .dataframe tbody tr th {\n",
       "        vertical-align: top;\n",
       "    }\n",
       "\n",
       "    .dataframe thead th {\n",
       "        text-align: right;\n",
       "    }\n",
       "</style>\n",
       "<table border=\"1\" class=\"dataframe\">\n",
       "  <thead>\n",
       "    <tr style=\"text-align: right;\">\n",
       "      <th></th>\n",
       "      <th>task</th>\n",
       "    </tr>\n",
       "  </thead>\n",
       "  <tbody>\n",
       "    <tr>\n",
       "      <th>0</th>\n",
       "      <td>nback</td>\n",
       "    </tr>\n",
       "  </tbody>\n",
       "</table>\n",
       "</div>"
      ],
      "text/plain": [
       "    task\n",
       "0  nback"
      ]
     },
     "execution_count": 12,
     "metadata": {},
     "output_type": "execute_result"
    }
   ],
   "source": [
    "q.run_query(\n",
    "    \"SELECT DISTINCT task WHERE task~=\\\".*back*\\\"\",\n",
    "    format=\"dataframe\"\n",
    ")"
   ]
  },
  {
   "cell_type": "markdown",
   "metadata": {},
   "source": [
    "## Part 4: Ranges and Lists\n",
    "\n",
    "BIQL supports convenient syntax for matching multiple values and ranges:"
   ]
  },
  {
   "cell_type": "markdown",
   "metadata": {},
   "source": [
    "### List Matching with IN\n",
    "\n",
    "Use `IN` to match any value from a list:"
   ]
  },
  {
   "cell_type": "code",
   "execution_count": 13,
   "metadata": {
    "execution": {
     "iopub.execute_input": "2025-07-01T23:36:42.885012Z",
     "iopub.status.busy": "2025-07-01T23:36:42.884850Z",
     "iopub.status.idle": "2025-07-01T23:36:42.891115Z",
     "shell.execute_reply": "2025-07-01T23:36:42.890592Z"
    }
   },
   "outputs": [
    {
     "data": {
      "text/html": [
       "<div>\n",
       "<style scoped>\n",
       "    .dataframe tbody tr th:only-of-type {\n",
       "        vertical-align: middle;\n",
       "    }\n",
       "\n",
       "    .dataframe tbody tr th {\n",
       "        vertical-align: top;\n",
       "    }\n",
       "\n",
       "    .dataframe thead th {\n",
       "        text-align: right;\n",
       "    }\n",
       "</style>\n",
       "<table border=\"1\" class=\"dataframe\">\n",
       "  <thead>\n",
       "    <tr style=\"text-align: right;\">\n",
       "      <th></th>\n",
       "      <th>sub</th>\n",
       "      <th>task</th>\n",
       "      <th>filename</th>\n",
       "    </tr>\n",
       "  </thead>\n",
       "  <tbody>\n",
       "    <tr>\n",
       "      <th>0</th>\n",
       "      <td>01</td>\n",
       "      <td>nback</td>\n",
       "      <td>sub-01_ses-02_task-nback_run-02_bold.nii</td>\n",
       "    </tr>\n",
       "    <tr>\n",
       "      <th>1</th>\n",
       "      <td>01</td>\n",
       "      <td>nback</td>\n",
       "      <td>sub-01_ses-02_task-nback_run-01_bold.nii</td>\n",
       "    </tr>\n",
       "    <tr>\n",
       "      <th>2</th>\n",
       "      <td>01</td>\n",
       "      <td>rest</td>\n",
       "      <td>sub-01_ses-02_task-rest_bold.nii</td>\n",
       "    </tr>\n",
       "    <tr>\n",
       "      <th>3</th>\n",
       "      <td>01</td>\n",
       "      <td>nback</td>\n",
       "      <td>sub-01_ses-01_task-nback_run-02_bold.nii</td>\n",
       "    </tr>\n",
       "    <tr>\n",
       "      <th>4</th>\n",
       "      <td>01</td>\n",
       "      <td>rest</td>\n",
       "      <td>sub-01_ses-01_task-rest_bold.nii</td>\n",
       "    </tr>\n",
       "  </tbody>\n",
       "</table>\n",
       "</div>"
      ],
      "text/plain": [
       "  sub   task                                  filename\n",
       "0  01  nback  sub-01_ses-02_task-nback_run-02_bold.nii\n",
       "1  01  nback  sub-01_ses-02_task-nback_run-01_bold.nii\n",
       "2  01   rest          sub-01_ses-02_task-rest_bold.nii\n",
       "3  01  nback  sub-01_ses-01_task-nback_run-02_bold.nii\n",
       "4  01   rest          sub-01_ses-01_task-rest_bold.nii"
      ]
     },
     "execution_count": 13,
     "metadata": {},
     "output_type": "execute_result"
    }
   ],
   "source": [
    "# Find files for specific subjects\n",
    "q.run_query(\n",
    "    \"SELECT sub, task, filename WHERE sub IN ['01', '02', '03'] AND datatype=func\",\n",
    "    format=\"dataframe\"\n",
    ").head()"
   ]
  },
  {
   "cell_type": "code",
   "execution_count": 14,
   "metadata": {
    "execution": {
     "iopub.execute_input": "2025-07-01T23:36:42.892689Z",
     "iopub.status.busy": "2025-07-01T23:36:42.892524Z",
     "iopub.status.idle": "2025-07-01T23:36:42.898037Z",
     "shell.execute_reply": "2025-07-01T23:36:42.897515Z"
    }
   },
   "outputs": [
    {
     "data": {
      "text/html": [
       "<div>\n",
       "<style scoped>\n",
       "    .dataframe tbody tr th:only-of-type {\n",
       "        vertical-align: middle;\n",
       "    }\n",
       "\n",
       "    .dataframe tbody tr th {\n",
       "        vertical-align: top;\n",
       "    }\n",
       "\n",
       "    .dataframe thead th {\n",
       "        text-align: right;\n",
       "    }\n",
       "</style>\n",
       "<table border=\"1\" class=\"dataframe\">\n",
       "  <thead>\n",
       "    <tr style=\"text-align: right;\">\n",
       "      <th></th>\n",
       "      <th>sub</th>\n",
       "    </tr>\n",
       "  </thead>\n",
       "  <tbody>\n",
       "    <tr>\n",
       "      <th>0</th>\n",
       "      <td>01</td>\n",
       "    </tr>\n",
       "    <tr>\n",
       "      <th>1</th>\n",
       "      <td>04</td>\n",
       "    </tr>\n",
       "    <tr>\n",
       "      <th>2</th>\n",
       "      <td>05</td>\n",
       "    </tr>\n",
       "    <tr>\n",
       "      <th>3</th>\n",
       "      <td>02</td>\n",
       "    </tr>\n",
       "    <tr>\n",
       "      <th>4</th>\n",
       "      <td>03</td>\n",
       "    </tr>\n",
       "  </tbody>\n",
       "</table>\n",
       "</div>"
      ],
      "text/plain": [
       "  sub\n",
       "0  01\n",
       "1  04\n",
       "2  05\n",
       "3  02\n",
       "4  03"
      ]
     },
     "execution_count": 14,
     "metadata": {},
     "output_type": "execute_result"
    }
   ],
   "source": [
    "# Find specific tasks\n",
    "q.run_query(\n",
    "    \"SELECT DISTINCT sub WHERE task IN ['nback', 'rest']\",\n",
    "    format=\"dataframe\"\n",
    ")"
   ]
  },
  {
   "cell_type": "code",
   "execution_count": 15,
   "metadata": {
    "execution": {
     "iopub.execute_input": "2025-07-01T23:36:42.899597Z",
     "iopub.status.busy": "2025-07-01T23:36:42.899432Z",
     "iopub.status.idle": "2025-07-01T23:36:42.905343Z",
     "shell.execute_reply": "2025-07-01T23:36:42.904890Z"
    }
   },
   "outputs": [
    {
     "data": {
      "text/html": [
       "<div>\n",
       "<style scoped>\n",
       "    .dataframe tbody tr th:only-of-type {\n",
       "        vertical-align: middle;\n",
       "    }\n",
       "\n",
       "    .dataframe tbody tr th {\n",
       "        vertical-align: top;\n",
       "    }\n",
       "\n",
       "    .dataframe thead th {\n",
       "        text-align: right;\n",
       "    }\n",
       "</style>\n",
       "<table border=\"1\" class=\"dataframe\">\n",
       "  <thead>\n",
       "    <tr style=\"text-align: right;\">\n",
       "      <th></th>\n",
       "      <th>sub</th>\n",
       "      <th>file_count</th>\n",
       "    </tr>\n",
       "  </thead>\n",
       "  <tbody>\n",
       "    <tr>\n",
       "      <th>0</th>\n",
       "      <td>01</td>\n",
       "      <td>6</td>\n",
       "    </tr>\n",
       "    <tr>\n",
       "      <th>1</th>\n",
       "      <td>02</td>\n",
       "      <td>6</td>\n",
       "    </tr>\n",
       "  </tbody>\n",
       "</table>\n",
       "</div>"
      ],
      "text/plain": [
       "  sub  file_count\n",
       "0  01           6\n",
       "1  02           6"
      ]
     },
     "execution_count": 15,
     "metadata": {},
     "output_type": "execute_result"
    }
   ],
   "source": [
    "# Combining lists and other conditions  \n",
    "q.run_query(\n",
    "    \"SELECT sub, COUNT(*) as file_count \"\n",
    "    \"WHERE sub IN ['01', '02'] AND task IN ['nback', 'rest'] \"\n",
    "    \"GROUP BY sub\",\n",
    "    format=\"dataframe\"\n",
    ")"
   ]
  },
  {
   "cell_type": "markdown",
   "metadata": {},
   "source": [
    "### Range Matching\n",
    "\n",
    "Use `[start:end]` syntax for numeric ranges (inclusive):"
   ]
  },
  {
   "cell_type": "code",
   "execution_count": 16,
   "metadata": {
    "execution": {
     "iopub.execute_input": "2025-07-01T23:36:42.907184Z",
     "iopub.status.busy": "2025-07-01T23:36:42.906856Z",
     "iopub.status.idle": "2025-07-01T23:36:42.913118Z",
     "shell.execute_reply": "2025-07-01T23:36:42.912685Z"
    }
   },
   "outputs": [
    {
     "data": {
      "text/html": [
       "<div>\n",
       "<style scoped>\n",
       "    .dataframe tbody tr th:only-of-type {\n",
       "        vertical-align: middle;\n",
       "    }\n",
       "\n",
       "    .dataframe tbody tr th {\n",
       "        vertical-align: top;\n",
       "    }\n",
       "\n",
       "    .dataframe thead th {\n",
       "        text-align: right;\n",
       "    }\n",
       "</style>\n",
       "<table border=\"1\" class=\"dataframe\">\n",
       "  <thead>\n",
       "    <tr style=\"text-align: right;\">\n",
       "      <th></th>\n",
       "      <th>sub</th>\n",
       "      <th>task</th>\n",
       "      <th>run</th>\n",
       "    </tr>\n",
       "  </thead>\n",
       "  <tbody>\n",
       "    <tr>\n",
       "      <th>0</th>\n",
       "      <td>01</td>\n",
       "      <td>nback</td>\n",
       "      <td>02</td>\n",
       "    </tr>\n",
       "    <tr>\n",
       "      <th>1</th>\n",
       "      <td>01</td>\n",
       "      <td>nback</td>\n",
       "      <td>01</td>\n",
       "    </tr>\n",
       "    <tr>\n",
       "      <th>2</th>\n",
       "      <td>01</td>\n",
       "      <td>nback</td>\n",
       "      <td>02</td>\n",
       "    </tr>\n",
       "    <tr>\n",
       "      <th>3</th>\n",
       "      <td>01</td>\n",
       "      <td>nback</td>\n",
       "      <td>01</td>\n",
       "    </tr>\n",
       "    <tr>\n",
       "      <th>4</th>\n",
       "      <td>04</td>\n",
       "      <td>nback</td>\n",
       "      <td>02</td>\n",
       "    </tr>\n",
       "    <tr>\n",
       "      <th>5</th>\n",
       "      <td>04</td>\n",
       "      <td>nback</td>\n",
       "      <td>01</td>\n",
       "    </tr>\n",
       "    <tr>\n",
       "      <th>6</th>\n",
       "      <td>04</td>\n",
       "      <td>nback</td>\n",
       "      <td>02</td>\n",
       "    </tr>\n",
       "    <tr>\n",
       "      <th>7</th>\n",
       "      <td>04</td>\n",
       "      <td>nback</td>\n",
       "      <td>01</td>\n",
       "    </tr>\n",
       "    <tr>\n",
       "      <th>8</th>\n",
       "      <td>05</td>\n",
       "      <td>nback</td>\n",
       "      <td>02</td>\n",
       "    </tr>\n",
       "    <tr>\n",
       "      <th>9</th>\n",
       "      <td>05</td>\n",
       "      <td>nback</td>\n",
       "      <td>01</td>\n",
       "    </tr>\n",
       "    <tr>\n",
       "      <th>10</th>\n",
       "      <td>05</td>\n",
       "      <td>nback</td>\n",
       "      <td>02</td>\n",
       "    </tr>\n",
       "    <tr>\n",
       "      <th>11</th>\n",
       "      <td>05</td>\n",
       "      <td>nback</td>\n",
       "      <td>01</td>\n",
       "    </tr>\n",
       "    <tr>\n",
       "      <th>12</th>\n",
       "      <td>02</td>\n",
       "      <td>nback</td>\n",
       "      <td>02</td>\n",
       "    </tr>\n",
       "    <tr>\n",
       "      <th>13</th>\n",
       "      <td>02</td>\n",
       "      <td>nback</td>\n",
       "      <td>01</td>\n",
       "    </tr>\n",
       "    <tr>\n",
       "      <th>14</th>\n",
       "      <td>02</td>\n",
       "      <td>nback</td>\n",
       "      <td>02</td>\n",
       "    </tr>\n",
       "    <tr>\n",
       "      <th>15</th>\n",
       "      <td>02</td>\n",
       "      <td>nback</td>\n",
       "      <td>01</td>\n",
       "    </tr>\n",
       "    <tr>\n",
       "      <th>16</th>\n",
       "      <td>03</td>\n",
       "      <td>nback</td>\n",
       "      <td>01</td>\n",
       "    </tr>\n",
       "    <tr>\n",
       "      <th>17</th>\n",
       "      <td>03</td>\n",
       "      <td>nback</td>\n",
       "      <td>02</td>\n",
       "    </tr>\n",
       "    <tr>\n",
       "      <th>18</th>\n",
       "      <td>03</td>\n",
       "      <td>nback</td>\n",
       "      <td>02</td>\n",
       "    </tr>\n",
       "    <tr>\n",
       "      <th>19</th>\n",
       "      <td>03</td>\n",
       "      <td>nback</td>\n",
       "      <td>01</td>\n",
       "    </tr>\n",
       "  </tbody>\n",
       "</table>\n",
       "</div>"
      ],
      "text/plain": [
       "   sub   task run\n",
       "0   01  nback  02\n",
       "1   01  nback  01\n",
       "2   01  nback  02\n",
       "3   01  nback  01\n",
       "4   04  nback  02\n",
       "5   04  nback  01\n",
       "6   04  nback  02\n",
       "7   04  nback  01\n",
       "8   05  nback  02\n",
       "9   05  nback  01\n",
       "10  05  nback  02\n",
       "11  05  nback  01\n",
       "12  02  nback  02\n",
       "13  02  nback  01\n",
       "14  02  nback  02\n",
       "15  02  nback  01\n",
       "16  03  nback  01\n",
       "17  03  nback  02\n",
       "18  03  nback  02\n",
       "19  03  nback  01"
      ]
     },
     "execution_count": 16,
     "metadata": {},
     "output_type": "execute_result"
    }
   ],
   "source": [
    "# Find runs 1 and 2 (inclusive range)\n",
    "q.run_query(\n",
    "    \"SELECT sub, task, run WHERE run=[1:2] AND datatype=func\",\n",
    "    format=\"dataframe\"\n",
    ")"
   ]
  },
  {
   "cell_type": "markdown",
   "metadata": {},
   "source": [
    "## Part 5: Grouping and Aggregation\n",
    "\n",
    "BIQL supports SQL-like grouping and aggregation functions:"
   ]
  },
  {
   "cell_type": "code",
   "execution_count": 17,
   "metadata": {
    "execution": {
     "iopub.execute_input": "2025-07-01T23:36:42.914654Z",
     "iopub.status.busy": "2025-07-01T23:36:42.914489Z",
     "iopub.status.idle": "2025-07-01T23:36:42.920295Z",
     "shell.execute_reply": "2025-07-01T23:36:42.919723Z"
    }
   },
   "outputs": [
    {
     "data": {
      "text/html": [
       "<div>\n",
       "<style scoped>\n",
       "    .dataframe tbody tr th:only-of-type {\n",
       "        vertical-align: middle;\n",
       "    }\n",
       "\n",
       "    .dataframe tbody tr th {\n",
       "        vertical-align: top;\n",
       "    }\n",
       "\n",
       "    .dataframe thead th {\n",
       "        text-align: right;\n",
       "    }\n",
       "</style>\n",
       "<table border=\"1\" class=\"dataframe\">\n",
       "  <thead>\n",
       "    <tr style=\"text-align: right;\">\n",
       "      <th></th>\n",
       "      <th>sub</th>\n",
       "      <th>count</th>\n",
       "    </tr>\n",
       "  </thead>\n",
       "  <tbody>\n",
       "    <tr>\n",
       "      <th>0</th>\n",
       "      <td>01</td>\n",
       "      <td>12</td>\n",
       "    </tr>\n",
       "    <tr>\n",
       "      <th>1</th>\n",
       "      <td>04</td>\n",
       "      <td>12</td>\n",
       "    </tr>\n",
       "    <tr>\n",
       "      <th>2</th>\n",
       "      <td>05</td>\n",
       "      <td>12</td>\n",
       "    </tr>\n",
       "    <tr>\n",
       "      <th>3</th>\n",
       "      <td>02</td>\n",
       "      <td>12</td>\n",
       "    </tr>\n",
       "    <tr>\n",
       "      <th>4</th>\n",
       "      <td>03</td>\n",
       "      <td>12</td>\n",
       "    </tr>\n",
       "  </tbody>\n",
       "</table>\n",
       "</div>"
      ],
      "text/plain": [
       "  sub  count\n",
       "0  01     12\n",
       "1  04     12\n",
       "2  05     12\n",
       "3  02     12\n",
       "4  03     12"
      ]
     },
     "execution_count": 17,
     "metadata": {},
     "output_type": "execute_result"
    }
   ],
   "source": [
    "q.run_query(\"SELECT sub, COUNT(*) GROUP BY sub\", format=\"dataframe\")"
   ]
  },
  {
   "cell_type": "code",
   "execution_count": 18,
   "metadata": {
    "execution": {
     "iopub.execute_input": "2025-07-01T23:36:42.921836Z",
     "iopub.status.busy": "2025-07-01T23:36:42.921672Z",
     "iopub.status.idle": "2025-07-01T23:36:42.927002Z",
     "shell.execute_reply": "2025-07-01T23:36:42.926444Z"
    }
   },
   "outputs": [
    {
     "data": {
      "text/plain": [
       "[{'sub': '01', 'datatype': 'anat', 'count': 2},\n",
       " {'sub': '01', 'datatype': 'func', 'count': 6},\n",
       " {'sub': '04', 'datatype': 'anat', 'count': 2},\n",
       " {'sub': '04', 'datatype': 'func', 'count': 6},\n",
       " {'sub': '05', 'datatype': 'anat', 'count': 2},\n",
       " {'sub': '05', 'datatype': 'func', 'count': 6},\n",
       " {'sub': '02', 'datatype': 'anat', 'count': 2},\n",
       " {'sub': '02', 'datatype': 'func', 'count': 6},\n",
       " {'sub': '03', 'datatype': 'anat', 'count': 2},\n",
       " {'sub': '03', 'datatype': 'func', 'count': 6},\n",
       " {'sub': '01', 'datatype': None, 'count': 3},\n",
       " {'sub': '01', 'datatype': 'beh', 'count': 1},\n",
       " {'sub': '04', 'datatype': None, 'count': 3},\n",
       " {'sub': '04', 'datatype': 'beh', 'count': 1},\n",
       " {'sub': '05', 'datatype': None, 'count': 3},\n",
       " {'sub': '05', 'datatype': 'beh', 'count': 1},\n",
       " {'sub': '02', 'datatype': None, 'count': 3},\n",
       " {'sub': '02', 'datatype': 'beh', 'count': 1},\n",
       " {'sub': '03', 'datatype': None, 'count': 3},\n",
       " {'sub': '03', 'datatype': 'beh', 'count': 1}]"
      ]
     },
     "execution_count": 18,
     "metadata": {},
     "output_type": "execute_result"
    }
   ],
   "source": [
    "q.run_query(\n",
    "    \"SELECT sub, datatype, COUNT(*) GROUP BY sub, datatype\",\n",
    "    format=\"json\"\n",
    ")"
   ]
  },
  {
   "cell_type": "code",
   "execution_count": 19,
   "metadata": {
    "execution": {
     "iopub.execute_input": "2025-07-01T23:36:42.928597Z",
     "iopub.status.busy": "2025-07-01T23:36:42.928431Z",
     "iopub.status.idle": "2025-07-01T23:36:42.932706Z",
     "shell.execute_reply": "2025-07-01T23:36:42.932271Z"
    }
   },
   "outputs": [
    {
     "data": {
      "text/plain": [
       "[{'sub': '01',\n",
       "  'all_task_names': ['nback',\n",
       "   'nback',\n",
       "   'nback',\n",
       "   'nback',\n",
       "   'rest',\n",
       "   'rest',\n",
       "   'stroop',\n",
       "   None,\n",
       "   None,\n",
       "   None,\n",
       "   None,\n",
       "   None],\n",
       "  'unique_tasks': ['nback', 'rest', 'stroop']}]"
      ]
     },
     "execution_count": 19,
     "metadata": {},
     "output_type": "execute_result"
    }
   ],
   "source": [
    "# Compare DISTINCT vs non-DISTINCT - get all task names (including duplicates)\n",
    "q.run_query(\n",
    "    \"SELECT sub, (task) as all_task_names, (DISTINCT task) as unique_tasks \"\n",
    "    \"WHERE sub='01' \"\n",
    "    \"GROUP BY sub\",\n",
    "    format=\"json\"\n",
    ")"
   ]
  },
  {
   "cell_type": "code",
   "execution_count": 20,
   "metadata": {
    "execution": {
     "iopub.execute_input": "2025-07-01T23:36:42.934346Z",
     "iopub.status.busy": "2025-07-01T23:36:42.934164Z",
     "iopub.status.idle": "2025-07-01T23:36:42.938621Z",
     "shell.execute_reply": "2025-07-01T23:36:42.938183Z"
    }
   },
   "outputs": [
    {
     "data": {
      "text/plain": [
       "[{'sub': '01', 'unique_tasks': ['nback', 'rest', 'stroop'], 'total_files': 12},\n",
       " {'sub': '02', 'unique_tasks': ['nback', 'rest', 'stroop'], 'total_files': 12},\n",
       " {'sub': '03', 'unique_tasks': ['nback', 'rest', 'stroop'], 'total_files': 12}]"
      ]
     },
     "execution_count": 20,
     "metadata": {},
     "output_type": "execute_result"
    }
   ],
   "source": [
    "# Get unique tasks per subject\n",
    "q.run_query(\n",
    "    \"SELECT sub, (DISTINCT task) as unique_tasks, COUNT(*) as total_files \"\n",
    "    \"WHERE sub IN ['01', '02', '03'] \"\n",
    "    \"GROUP BY sub\",\n",
    "    format=\"json\"\n",
    ")"
   ]
  },
  {
   "cell_type": "markdown",
   "metadata": {},
   "source": [
    "### Array Aggregation with DISTINCT\n",
    "\n",
    "BIQL supports collecting values into arrays using the `(field)` syntax:\n",
    "\n",
    "- `(DISTINCT field)` returns unique non-null values  \n",
    "- `(field)` returns all values including duplicates"
   ]
  },
  {
   "cell_type": "markdown",
   "metadata": {},
   "source": [
    "## Part 6: Working with Metadata\n",
    "\n",
    "BIQL can query JSON sidecar metadata using the `metadata.` namespace. \n",
    "Let's explore a more complex dataset to see this in action:"
   ]
  },
  {
   "cell_type": "code",
   "execution_count": 21,
   "metadata": {
    "execution": {
     "iopub.execute_input": "2025-07-01T23:36:42.940448Z",
     "iopub.status.busy": "2025-07-01T23:36:42.940110Z",
     "iopub.status.idle": "2025-07-01T23:36:43.246743Z",
     "shell.execute_reply": "2025-07-01T23:36:43.246305Z"
    }
   },
   "outputs": [
    {
     "data": {
      "text/html": [
       "<div>\n",
       "<style scoped>\n",
       "    .dataframe tbody tr th:only-of-type {\n",
       "        vertical-align: middle;\n",
       "    }\n",
       "\n",
       "    .dataframe tbody tr th {\n",
       "        vertical-align: top;\n",
       "    }\n",
       "\n",
       "    .dataframe thead th {\n",
       "        text-align: right;\n",
       "    }\n",
       "</style>\n",
       "<table border=\"1\" class=\"dataframe\">\n",
       "  <thead>\n",
       "    <tr style=\"text-align: right;\">\n",
       "      <th></th>\n",
       "      <th>task</th>\n",
       "    </tr>\n",
       "  </thead>\n",
       "  <tbody>\n",
       "    <tr>\n",
       "      <th>0</th>\n",
       "      <td>facerecognition</td>\n",
       "    </tr>\n",
       "  </tbody>\n",
       "</table>\n",
       "</div>"
      ],
      "text/plain": [
       "              task\n",
       "0  facerecognition"
      ]
     },
     "execution_count": 21,
     "metadata": {},
     "output_type": "execute_result"
    }
   ],
   "source": [
    "# Switch to a dataset with more metadata  \n",
    "ds2_path = bids_examples_dir / \"ds000117\"\n",
    "q2 = create_query_engine(ds2_path) if (bids_examples_dir / \"ds000117\").exists() else q\n",
    "\n",
    "# Show what metadata fields are available\n",
    "q2.run_query(\n",
    "    \"SELECT DISTINCT task WHERE datatype=func\",\n",
    "    format=\"dataframe\"\n",
    ")"
   ]
  },
  {
   "cell_type": "code",
   "execution_count": 22,
   "metadata": {
    "execution": {
     "iopub.execute_input": "2025-07-01T23:36:43.248412Z",
     "iopub.status.busy": "2025-07-01T23:36:43.248204Z",
     "iopub.status.idle": "2025-07-01T23:36:43.253996Z",
     "shell.execute_reply": "2025-07-01T23:36:43.253555Z"
    }
   },
   "outputs": [
    {
     "data": {
      "text/html": [
       "<div>\n",
       "<style scoped>\n",
       "    .dataframe tbody tr th:only-of-type {\n",
       "        vertical-align: middle;\n",
       "    }\n",
       "\n",
       "    .dataframe tbody tr th {\n",
       "        vertical-align: top;\n",
       "    }\n",
       "\n",
       "    .dataframe thead th {\n",
       "        text-align: right;\n",
       "    }\n",
       "</style>\n",
       "<table border=\"1\" class=\"dataframe\">\n",
       "  <thead>\n",
       "    <tr style=\"text-align: right;\">\n",
       "      <th></th>\n",
       "      <th>task</th>\n",
       "      <th>file_count</th>\n",
       "      <th>subjects</th>\n",
       "    </tr>\n",
       "  </thead>\n",
       "  <tbody>\n",
       "    <tr>\n",
       "      <th>0</th>\n",
       "      <td>None</td>\n",
       "      <td>25</td>\n",
       "      <td>5</td>\n",
       "    </tr>\n",
       "    <tr>\n",
       "      <th>1</th>\n",
       "      <td>nback</td>\n",
       "      <td>20</td>\n",
       "      <td>5</td>\n",
       "    </tr>\n",
       "    <tr>\n",
       "      <th>2</th>\n",
       "      <td>rest</td>\n",
       "      <td>10</td>\n",
       "      <td>5</td>\n",
       "    </tr>\n",
       "    <tr>\n",
       "      <th>3</th>\n",
       "      <td>stroop</td>\n",
       "      <td>5</td>\n",
       "      <td>5</td>\n",
       "    </tr>\n",
       "  </tbody>\n",
       "</table>\n",
       "</div>"
      ],
      "text/plain": [
       "     task  file_count  subjects\n",
       "0    None          25         5\n",
       "1   nback          20         5\n",
       "2    rest          10         5\n",
       "3  stroop           5         5"
      ]
     },
     "execution_count": 22,
     "metadata": {},
     "output_type": "execute_result"
    }
   ],
   "source": [
    "# For the synthetic dataset, we can still demonstrate basic grouping by task\n",
    "q.run_query(\n",
    "    \"SELECT task, COUNT(*) as file_count, \"\n",
    "    \"COUNT(DISTINCT sub) as subjects \"\n",
    "    \"GROUP BY task\",\n",
    "    format=\"dataframe\"\n",
    ")"
   ]
  },
  {
   "cell_type": "markdown",
   "metadata": {},
   "source": [
    "## Part 7: Participant Information\n",
    "\n",
    "Access participant demographics using the `participants.` namespace:"
   ]
  },
  {
   "cell_type": "code",
   "execution_count": 23,
   "metadata": {
    "execution": {
     "iopub.execute_input": "2025-07-01T23:36:43.255598Z",
     "iopub.status.busy": "2025-07-01T23:36:43.255437Z",
     "iopub.status.idle": "2025-07-01T23:36:43.261676Z",
     "shell.execute_reply": "2025-07-01T23:36:43.261240Z"
    }
   },
   "outputs": [
    {
     "data": {
      "text/html": [
       "<div>\n",
       "<style scoped>\n",
       "    .dataframe tbody tr th:only-of-type {\n",
       "        vertical-align: middle;\n",
       "    }\n",
       "\n",
       "    .dataframe tbody tr th {\n",
       "        vertical-align: top;\n",
       "    }\n",
       "\n",
       "    .dataframe thead th {\n",
       "        text-align: right;\n",
       "    }\n",
       "</style>\n",
       "<table border=\"1\" class=\"dataframe\">\n",
       "  <thead>\n",
       "    <tr style=\"text-align: right;\">\n",
       "      <th></th>\n",
       "      <th>sub</th>\n",
       "      <th>participants.age</th>\n",
       "      <th>participants.sex</th>\n",
       "    </tr>\n",
       "  </thead>\n",
       "  <tbody>\n",
       "    <tr>\n",
       "      <th>0</th>\n",
       "      <td>01</td>\n",
       "      <td>34</td>\n",
       "      <td>F</td>\n",
       "    </tr>\n",
       "    <tr>\n",
       "      <th>1</th>\n",
       "      <td>04</td>\n",
       "      <td>21</td>\n",
       "      <td>F</td>\n",
       "    </tr>\n",
       "    <tr>\n",
       "      <th>2</th>\n",
       "      <td>05</td>\n",
       "      <td>42</td>\n",
       "      <td>M</td>\n",
       "    </tr>\n",
       "    <tr>\n",
       "      <th>3</th>\n",
       "      <td>02</td>\n",
       "      <td>38</td>\n",
       "      <td>M</td>\n",
       "    </tr>\n",
       "    <tr>\n",
       "      <th>4</th>\n",
       "      <td>03</td>\n",
       "      <td>22</td>\n",
       "      <td>M</td>\n",
       "    </tr>\n",
       "  </tbody>\n",
       "</table>\n",
       "</div>"
      ],
      "text/plain": [
       "  sub  participants.age participants.sex\n",
       "0  01                34                F\n",
       "1  04                21                F\n",
       "2  05                42                M\n",
       "3  02                38                M\n",
       "4  03                22                M"
      ]
     },
     "execution_count": 23,
     "metadata": {},
     "output_type": "execute_result"
    }
   ],
   "source": [
    "q.run_query(\n",
    "    \"SELECT DISTINCT sub, participants.age, participants.sex\",\n",
    "    format=\"dataframe\"\n",
    ")"
   ]
  },
  {
   "cell_type": "code",
   "execution_count": 24,
   "metadata": {
    "execution": {
     "iopub.execute_input": "2025-07-01T23:36:43.263263Z",
     "iopub.status.busy": "2025-07-01T23:36:43.263076Z",
     "iopub.status.idle": "2025-07-01T23:36:43.269978Z",
     "shell.execute_reply": "2025-07-01T23:36:43.269439Z"
    }
   },
   "outputs": [
    {
     "data": {
      "text/html": [
       "<div>\n",
       "<style scoped>\n",
       "    .dataframe tbody tr th:only-of-type {\n",
       "        vertical-align: middle;\n",
       "    }\n",
       "\n",
       "    .dataframe tbody tr th {\n",
       "        vertical-align: top;\n",
       "    }\n",
       "\n",
       "    .dataframe thead th {\n",
       "        text-align: right;\n",
       "    }\n",
       "</style>\n",
       "<table border=\"1\" class=\"dataframe\">\n",
       "  <thead>\n",
       "    <tr style=\"text-align: right;\">\n",
       "      <th></th>\n",
       "      <th>sub</th>\n",
       "      <th>task</th>\n",
       "      <th>participants.age</th>\n",
       "    </tr>\n",
       "  </thead>\n",
       "  <tbody>\n",
       "    <tr>\n",
       "      <th>0</th>\n",
       "      <td>01</td>\n",
       "      <td>None</td>\n",
       "      <td>34</td>\n",
       "    </tr>\n",
       "    <tr>\n",
       "      <th>1</th>\n",
       "      <td>01</td>\n",
       "      <td>nback</td>\n",
       "      <td>34</td>\n",
       "    </tr>\n",
       "    <tr>\n",
       "      <th>2</th>\n",
       "      <td>01</td>\n",
       "      <td>nback</td>\n",
       "      <td>34</td>\n",
       "    </tr>\n",
       "    <tr>\n",
       "      <th>3</th>\n",
       "      <td>01</td>\n",
       "      <td>rest</td>\n",
       "      <td>34</td>\n",
       "    </tr>\n",
       "    <tr>\n",
       "      <th>4</th>\n",
       "      <td>01</td>\n",
       "      <td>None</td>\n",
       "      <td>34</td>\n",
       "    </tr>\n",
       "    <tr>\n",
       "      <th>5</th>\n",
       "      <td>01</td>\n",
       "      <td>nback</td>\n",
       "      <td>34</td>\n",
       "    </tr>\n",
       "    <tr>\n",
       "      <th>6</th>\n",
       "      <td>01</td>\n",
       "      <td>rest</td>\n",
       "      <td>34</td>\n",
       "    </tr>\n",
       "    <tr>\n",
       "      <th>7</th>\n",
       "      <td>01</td>\n",
       "      <td>nback</td>\n",
       "      <td>34</td>\n",
       "    </tr>\n",
       "    <tr>\n",
       "      <th>8</th>\n",
       "      <td>05</td>\n",
       "      <td>None</td>\n",
       "      <td>42</td>\n",
       "    </tr>\n",
       "    <tr>\n",
       "      <th>9</th>\n",
       "      <td>05</td>\n",
       "      <td>rest</td>\n",
       "      <td>42</td>\n",
       "    </tr>\n",
       "    <tr>\n",
       "      <th>10</th>\n",
       "      <td>05</td>\n",
       "      <td>nback</td>\n",
       "      <td>42</td>\n",
       "    </tr>\n",
       "    <tr>\n",
       "      <th>11</th>\n",
       "      <td>05</td>\n",
       "      <td>nback</td>\n",
       "      <td>42</td>\n",
       "    </tr>\n",
       "    <tr>\n",
       "      <th>12</th>\n",
       "      <td>05</td>\n",
       "      <td>None</td>\n",
       "      <td>42</td>\n",
       "    </tr>\n",
       "    <tr>\n",
       "      <th>13</th>\n",
       "      <td>05</td>\n",
       "      <td>nback</td>\n",
       "      <td>42</td>\n",
       "    </tr>\n",
       "    <tr>\n",
       "      <th>14</th>\n",
       "      <td>05</td>\n",
       "      <td>rest</td>\n",
       "      <td>42</td>\n",
       "    </tr>\n",
       "    <tr>\n",
       "      <th>15</th>\n",
       "      <td>05</td>\n",
       "      <td>nback</td>\n",
       "      <td>42</td>\n",
       "    </tr>\n",
       "    <tr>\n",
       "      <th>16</th>\n",
       "      <td>02</td>\n",
       "      <td>None</td>\n",
       "      <td>38</td>\n",
       "    </tr>\n",
       "    <tr>\n",
       "      <th>17</th>\n",
       "      <td>02</td>\n",
       "      <td>rest</td>\n",
       "      <td>38</td>\n",
       "    </tr>\n",
       "    <tr>\n",
       "      <th>18</th>\n",
       "      <td>02</td>\n",
       "      <td>nback</td>\n",
       "      <td>38</td>\n",
       "    </tr>\n",
       "    <tr>\n",
       "      <th>19</th>\n",
       "      <td>02</td>\n",
       "      <td>nback</td>\n",
       "      <td>38</td>\n",
       "    </tr>\n",
       "    <tr>\n",
       "      <th>20</th>\n",
       "      <td>02</td>\n",
       "      <td>None</td>\n",
       "      <td>38</td>\n",
       "    </tr>\n",
       "    <tr>\n",
       "      <th>21</th>\n",
       "      <td>02</td>\n",
       "      <td>nback</td>\n",
       "      <td>38</td>\n",
       "    </tr>\n",
       "    <tr>\n",
       "      <th>22</th>\n",
       "      <td>02</td>\n",
       "      <td>nback</td>\n",
       "      <td>38</td>\n",
       "    </tr>\n",
       "    <tr>\n",
       "      <th>23</th>\n",
       "      <td>02</td>\n",
       "      <td>rest</td>\n",
       "      <td>38</td>\n",
       "    </tr>\n",
       "    <tr>\n",
       "      <th>24</th>\n",
       "      <td>01</td>\n",
       "      <td>None</td>\n",
       "      <td>34</td>\n",
       "    </tr>\n",
       "    <tr>\n",
       "      <th>25</th>\n",
       "      <td>01</td>\n",
       "      <td>None</td>\n",
       "      <td>34</td>\n",
       "    </tr>\n",
       "    <tr>\n",
       "      <th>26</th>\n",
       "      <td>01</td>\n",
       "      <td>None</td>\n",
       "      <td>34</td>\n",
       "    </tr>\n",
       "    <tr>\n",
       "      <th>27</th>\n",
       "      <td>01</td>\n",
       "      <td>stroop</td>\n",
       "      <td>34</td>\n",
       "    </tr>\n",
       "    <tr>\n",
       "      <th>28</th>\n",
       "      <td>05</td>\n",
       "      <td>None</td>\n",
       "      <td>42</td>\n",
       "    </tr>\n",
       "    <tr>\n",
       "      <th>29</th>\n",
       "      <td>05</td>\n",
       "      <td>None</td>\n",
       "      <td>42</td>\n",
       "    </tr>\n",
       "    <tr>\n",
       "      <th>30</th>\n",
       "      <td>05</td>\n",
       "      <td>None</td>\n",
       "      <td>42</td>\n",
       "    </tr>\n",
       "    <tr>\n",
       "      <th>31</th>\n",
       "      <td>05</td>\n",
       "      <td>stroop</td>\n",
       "      <td>42</td>\n",
       "    </tr>\n",
       "    <tr>\n",
       "      <th>32</th>\n",
       "      <td>02</td>\n",
       "      <td>None</td>\n",
       "      <td>38</td>\n",
       "    </tr>\n",
       "    <tr>\n",
       "      <th>33</th>\n",
       "      <td>02</td>\n",
       "      <td>None</td>\n",
       "      <td>38</td>\n",
       "    </tr>\n",
       "    <tr>\n",
       "      <th>34</th>\n",
       "      <td>02</td>\n",
       "      <td>None</td>\n",
       "      <td>38</td>\n",
       "    </tr>\n",
       "    <tr>\n",
       "      <th>35</th>\n",
       "      <td>02</td>\n",
       "      <td>stroop</td>\n",
       "      <td>38</td>\n",
       "    </tr>\n",
       "  </tbody>\n",
       "</table>\n",
       "</div>"
      ],
      "text/plain": [
       "   sub    task  participants.age\n",
       "0   01    None                34\n",
       "1   01   nback                34\n",
       "2   01   nback                34\n",
       "3   01    rest                34\n",
       "4   01    None                34\n",
       "5   01   nback                34\n",
       "6   01    rest                34\n",
       "7   01   nback                34\n",
       "8   05    None                42\n",
       "9   05    rest                42\n",
       "10  05   nback                42\n",
       "11  05   nback                42\n",
       "12  05    None                42\n",
       "13  05   nback                42\n",
       "14  05    rest                42\n",
       "15  05   nback                42\n",
       "16  02    None                38\n",
       "17  02    rest                38\n",
       "18  02   nback                38\n",
       "19  02   nback                38\n",
       "20  02    None                38\n",
       "21  02   nback                38\n",
       "22  02   nback                38\n",
       "23  02    rest                38\n",
       "24  01    None                34\n",
       "25  01    None                34\n",
       "26  01    None                34\n",
       "27  01  stroop                34\n",
       "28  05    None                42\n",
       "29  05    None                42\n",
       "30  05    None                42\n",
       "31  05  stroop                42\n",
       "32  02    None                38\n",
       "33  02    None                38\n",
       "34  02    None                38\n",
       "35  02  stroop                38"
      ]
     },
     "execution_count": 24,
     "metadata": {},
     "output_type": "execute_result"
    }
   ],
   "source": [
    "q.run_query(\n",
    "    \"SELECT sub, task, participants.age WHERE participants.age > 25\",\n",
    "    format=\"dataframe\"\n",
    ")"
   ]
  },
  {
   "cell_type": "markdown",
   "metadata": {},
   "source": [
    "## Part 8: Advanced Queries\n",
    "\n",
    "Let's combine multiple features for more complex queries:"
   ]
  },
  {
   "cell_type": "code",
   "execution_count": 25,
   "metadata": {
    "execution": {
     "iopub.execute_input": "2025-07-01T23:36:43.271828Z",
     "iopub.status.busy": "2025-07-01T23:36:43.271522Z",
     "iopub.status.idle": "2025-07-01T23:36:43.276511Z",
     "shell.execute_reply": "2025-07-01T23:36:43.276062Z"
    }
   },
   "outputs": [
    {
     "data": {
      "text/plain": [
       "[{'sub': '01', 'ses': '02', 'task': 'nback', 'n_runs': 2},\n",
       " {'sub': '01', 'ses': '01', 'task': 'nback', 'n_runs': 2},\n",
       " {'sub': '02', 'ses': '02', 'task': 'nback', 'n_runs': 2},\n",
       " {'sub': '02', 'ses': '01', 'task': 'nback', 'n_runs': 2},\n",
       " {'sub': '03', 'ses': '02', 'task': 'nback', 'n_runs': 2},\n",
       " {'sub': '03', 'ses': '01', 'task': 'nback', 'n_runs': 2},\n",
       " {'sub': '04', 'ses': '02', 'task': 'nback', 'n_runs': 2},\n",
       " {'sub': '04', 'ses': '01', 'task': 'nback', 'n_runs': 2},\n",
       " {'sub': '05', 'ses': '02', 'task': 'nback', 'n_runs': 2},\n",
       " {'sub': '05', 'ses': '01', 'task': 'nback', 'n_runs': 2}]"
      ]
     },
     "execution_count": 25,
     "metadata": {},
     "output_type": "execute_result"
    }
   ],
   "source": [
    "q.run_query(\"\"\"\n",
    "    SELECT sub, ses, task, COUNT(*) as n_runs\n",
    "    WHERE datatype=func AND task != rest\n",
    "    GROUP BY sub, ses, task\n",
    "    HAVING COUNT(*) > 1\n",
    "    ORDER BY sub, task\n",
    "\"\"\", format=\"json\")"
   ]
  },
  {
   "cell_type": "code",
   "execution_count": 26,
   "metadata": {
    "execution": {
     "iopub.execute_input": "2025-07-01T23:36:43.278011Z",
     "iopub.status.busy": "2025-07-01T23:36:43.277852Z",
     "iopub.status.idle": "2025-07-01T23:36:43.285499Z",
     "shell.execute_reply": "2025-07-01T23:36:43.284921Z"
    }
   },
   "outputs": [
    {
     "data": {
      "text/plain": [
       "'| imaging_files   | run01_files     | run02_files     | sub | task  |\\n| --------------- | --------------- | --------------- | --- | ----- |\\n| [...4 items...] | [...2 items...] | [...2 items...] | 01  | nback |\\n| [...2 items...] | [...0 items...] | [...0 items...] | 01  | rest  |\\n| [...4 items...] | [...2 items...] | [...2 items...] | 04  | nback |\\n| [...2 items...] | [...0 items...] | [...0 items...] | 04  | rest  |\\n| [...2 items...] | [...0 items...] | [...0 items...] | 05  | rest  |\\n| [...4 items...] | [...2 items...] | [...2 items...] | 05  | nback |\\n| [...2 items...] | [...0 items...] | [...0 items...] | 02  | rest  |\\n| [...4 items...] | [...2 items...] | [...2 items...] | 02  | nback |\\n| [...4 items...] | [...2 items...] | [...2 items...] | 03  | nback |\\n| [...2 items...] | [...0 items...] | [...0 items...] | 03  | rest  |'"
      ]
     },
     "execution_count": 26,
     "metadata": {},
     "output_type": "execute_result"
    }
   ],
   "source": [
    "q.run_query(\"\"\"\n",
    "    SELECT sub, task,\n",
    "           (filename WHERE suffix='bold') as imaging_files,\n",
    "           (filename WHERE run='01') as run01_files,\n",
    "           (filename WHERE run='02') as run02_files\n",
    "    WHERE datatype=func\n",
    "    GROUP BY sub, task\n",
    "\"\"\", format=\"table\")  # Using table format since arrays don't display well in dataframes"
   ]
  },
  {
   "cell_type": "markdown",
   "metadata": {},
   "source": [
    "## Part 9: Output Formats\n",
    "\n",
    "BIQL supports multiple output formats for different use cases:"
   ]
  },
  {
   "cell_type": "code",
   "execution_count": 27,
   "metadata": {
    "execution": {
     "iopub.execute_input": "2025-07-01T23:36:43.287118Z",
     "iopub.status.busy": "2025-07-01T23:36:43.286955Z",
     "iopub.status.idle": "2025-07-01T23:36:43.290505Z",
     "shell.execute_reply": "2025-07-01T23:36:43.289947Z"
    }
   },
   "outputs": [
    {
     "name": "stdout",
     "output_type": "stream",
     "text": [
      "| run | sub | task  |\n",
      "| --- | --- | ----- |\n",
      "| 02  | 01  | nback |\n",
      "| 01  | 01  | nback |\n",
      "|     | 01  | rest  |\n",
      "| 02  | 01  | nback |\n",
      "|     | 01  | rest  |\n",
      "| 01  | 01  | nback |\n"
     ]
    }
   ],
   "source": [
    "sample_query = \"SELECT sub, task, run WHERE datatype=func AND sub=01\"\n",
    "\n",
    "print(q.run_query(sample_query, format=\"table\"))"
   ]
  },
  {
   "cell_type": "code",
   "execution_count": 28,
   "metadata": {
    "execution": {
     "iopub.execute_input": "2025-07-01T23:36:43.292059Z",
     "iopub.status.busy": "2025-07-01T23:36:43.291897Z",
     "iopub.status.idle": "2025-07-01T23:36:43.295445Z",
     "shell.execute_reply": "2025-07-01T23:36:43.294977Z"
    }
   },
   "outputs": [
    {
     "name": "stdout",
     "output_type": "stream",
     "text": [
      "run,sub,task\r\n",
      "02,01,nback\r\n",
      "01,01,nback\r\n",
      ",01,rest\r\n",
      "02,01,nback\r\n",
      ",01,rest\r\n",
      "01,01,nback\r\n",
      "\n"
     ]
    }
   ],
   "source": [
    "print(q.run_query(sample_query, format=\"csv\"))"
   ]
  },
  {
   "cell_type": "code",
   "execution_count": 29,
   "metadata": {
    "execution": {
     "iopub.execute_input": "2025-07-01T23:36:43.297193Z",
     "iopub.status.busy": "2025-07-01T23:36:43.296807Z",
     "iopub.status.idle": "2025-07-01T23:36:43.300992Z",
     "shell.execute_reply": "2025-07-01T23:36:43.300474Z"
    }
   },
   "outputs": [
    {
     "data": {
      "text/plain": [
       "[{'sub': '01', 'task': 'nback', 'run': '02'},\n",
       " {'sub': '01', 'task': 'nback', 'run': '01'}]"
      ]
     },
     "execution_count": 29,
     "metadata": {},
     "output_type": "execute_result"
    }
   ],
   "source": [
    "results_json = q.run_query(sample_query, format=\"json\")\n",
    "results_json[:2]  # Show first 2 entries"
   ]
  },
  {
   "cell_type": "code",
   "execution_count": 30,
   "metadata": {
    "execution": {
     "iopub.execute_input": "2025-07-01T23:36:43.302805Z",
     "iopub.status.busy": "2025-07-01T23:36:43.302387Z",
     "iopub.status.idle": "2025-07-01T23:36:43.305765Z",
     "shell.execute_reply": "2025-07-01T23:36:43.305206Z"
    }
   },
   "outputs": [
    {
     "name": "stdout",
     "output_type": "stream",
     "text": [
      "/tmp/bids-examples/synthetic/sub-01/ses-01/anat/sub-01_ses-01_T1w.nii\n",
      "/tmp/bids-examples/synthetic/sub-01/ses-02/anat/sub-01_ses-02_T1w.nii\n"
     ]
    }
   ],
   "source": [
    "print(q.run_query(\"WHERE sub=01 AND suffix=T1w\", format=\"paths\"))"
   ]
  },
  {
   "cell_type": "code",
   "execution_count": 31,
   "metadata": {
    "execution": {
     "iopub.execute_input": "2025-07-01T23:36:43.307384Z",
     "iopub.status.busy": "2025-07-01T23:36:43.307068Z",
     "iopub.status.idle": "2025-07-01T23:36:43.313011Z",
     "shell.execute_reply": "2025-07-01T23:36:43.312474Z"
    }
   },
   "outputs": [
    {
     "data": {
      "text/html": [
       "<div>\n",
       "<style scoped>\n",
       "    .dataframe tbody tr th:only-of-type {\n",
       "        vertical-align: middle;\n",
       "    }\n",
       "\n",
       "    .dataframe tbody tr th {\n",
       "        vertical-align: top;\n",
       "    }\n",
       "\n",
       "    .dataframe thead th {\n",
       "        text-align: right;\n",
       "    }\n",
       "</style>\n",
       "<table border=\"1\" class=\"dataframe\">\n",
       "  <thead>\n",
       "    <tr style=\"text-align: right;\">\n",
       "      <th></th>\n",
       "      <th>sub</th>\n",
       "      <th>task</th>\n",
       "      <th>run</th>\n",
       "    </tr>\n",
       "  </thead>\n",
       "  <tbody>\n",
       "    <tr>\n",
       "      <th>0</th>\n",
       "      <td>01</td>\n",
       "      <td>nback</td>\n",
       "      <td>02</td>\n",
       "    </tr>\n",
       "    <tr>\n",
       "      <th>1</th>\n",
       "      <td>01</td>\n",
       "      <td>nback</td>\n",
       "      <td>01</td>\n",
       "    </tr>\n",
       "    <tr>\n",
       "      <th>2</th>\n",
       "      <td>01</td>\n",
       "      <td>rest</td>\n",
       "      <td>None</td>\n",
       "    </tr>\n",
       "    <tr>\n",
       "      <th>3</th>\n",
       "      <td>01</td>\n",
       "      <td>nback</td>\n",
       "      <td>02</td>\n",
       "    </tr>\n",
       "    <tr>\n",
       "      <th>4</th>\n",
       "      <td>01</td>\n",
       "      <td>rest</td>\n",
       "      <td>None</td>\n",
       "    </tr>\n",
       "    <tr>\n",
       "      <th>5</th>\n",
       "      <td>01</td>\n",
       "      <td>nback</td>\n",
       "      <td>01</td>\n",
       "    </tr>\n",
       "  </tbody>\n",
       "</table>\n",
       "</div>"
      ],
      "text/plain": [
       "  sub   task   run\n",
       "0  01  nback    02\n",
       "1  01  nback    01\n",
       "2  01   rest  None\n",
       "3  01  nback    02\n",
       "4  01   rest  None\n",
       "5  01  nback    01"
      ]
     },
     "execution_count": 31,
     "metadata": {},
     "output_type": "execute_result"
    }
   ],
   "source": [
    "q.run_query(sample_query, format=\"dataframe\")"
   ]
  },
  {
   "cell_type": "markdown",
   "metadata": {},
   "source": [
    "## Part 10: Real-World Examples\n",
    "\n",
    "Let's look at some practical queries you might use in neuroimaging research:"
   ]
  },
  {
   "cell_type": "code",
   "execution_count": 32,
   "metadata": {
    "execution": {
     "iopub.execute_input": "2025-07-01T23:36:43.314984Z",
     "iopub.status.busy": "2025-07-01T23:36:43.314563Z",
     "iopub.status.idle": "2025-07-01T23:36:43.319531Z",
     "shell.execute_reply": "2025-07-01T23:36:43.318965Z"
    }
   },
   "outputs": [
    {
     "data": {
      "text/plain": [
       "[{'sub': '01',\n",
       "  'total_files': 12,\n",
       "  'datatypes': 3,\n",
       "  'available_data': ['anat', 'beh', 'func']},\n",
       " {'sub': '04',\n",
       "  'total_files': 12,\n",
       "  'datatypes': 3,\n",
       "  'available_data': ['anat', 'beh', 'func']},\n",
       " {'sub': '05',\n",
       "  'total_files': 12,\n",
       "  'datatypes': 3,\n",
       "  'available_data': ['anat', 'beh', 'func']},\n",
       " {'sub': '02',\n",
       "  'total_files': 12,\n",
       "  'datatypes': 3,\n",
       "  'available_data': ['anat', 'beh', 'func']},\n",
       " {'sub': '03',\n",
       "  'total_files': 12,\n",
       "  'datatypes': 3,\n",
       "  'available_data': ['anat', 'beh', 'func']}]"
      ]
     },
     "execution_count": 32,
     "metadata": {},
     "output_type": "execute_result"
    }
   ],
   "source": [
    "q.run_query(\"\"\"\n",
    "    SELECT sub, \n",
    "           COUNT(*) as total_files,\n",
    "           COUNT(DISTINCT datatype) as datatypes,\n",
    "           (DISTINCT datatype) as available_data\n",
    "    GROUP BY sub\n",
    "\"\"\", format=\"json\")"
   ]
  },
  {
   "cell_type": "code",
   "execution_count": 33,
   "metadata": {
    "execution": {
     "iopub.execute_input": "2025-07-01T23:36:43.321150Z",
     "iopub.status.busy": "2025-07-01T23:36:43.320854Z",
     "iopub.status.idle": "2025-07-01T23:36:43.326200Z",
     "shell.execute_reply": "2025-07-01T23:36:43.325785Z"
    }
   },
   "outputs": [
    {
     "data": {
      "text/plain": [
       "[{'sub': '01',\n",
       "  'ses': '02',\n",
       "  'files_per_session': 5,\n",
       "  'tasks_in_session': ['nback', 'rest']},\n",
       " {'sub': '01',\n",
       "  'ses': '01',\n",
       "  'files_per_session': 6,\n",
       "  'tasks_in_session': ['nback', 'rest', 'stroop']},\n",
       " {'sub': '04',\n",
       "  'ses': '02',\n",
       "  'files_per_session': 5,\n",
       "  'tasks_in_session': ['nback', 'rest']},\n",
       " {'sub': '04',\n",
       "  'ses': '01',\n",
       "  'files_per_session': 6,\n",
       "  'tasks_in_session': ['nback', 'rest', 'stroop']},\n",
       " {'sub': '05',\n",
       "  'ses': '02',\n",
       "  'files_per_session': 5,\n",
       "  'tasks_in_session': ['nback', 'rest']},\n",
       " {'sub': '05',\n",
       "  'ses': '01',\n",
       "  'files_per_session': 6,\n",
       "  'tasks_in_session': ['nback', 'rest', 'stroop']},\n",
       " {'sub': '02',\n",
       "  'ses': '02',\n",
       "  'files_per_session': 5,\n",
       "  'tasks_in_session': ['nback', 'rest']},\n",
       " {'sub': '02',\n",
       "  'ses': '01',\n",
       "  'files_per_session': 6,\n",
       "  'tasks_in_session': ['nback', 'rest', 'stroop']},\n",
       " {'sub': '03',\n",
       "  'ses': '02',\n",
       "  'files_per_session': 5,\n",
       "  'tasks_in_session': ['nback', 'rest']},\n",
       " {'sub': '03',\n",
       "  'ses': '01',\n",
       "  'files_per_session': 6,\n",
       "  'tasks_in_session': ['nback', 'rest', 'stroop']},\n",
       " {'sub': '01', 'ses': None, 'files_per_session': 1, 'tasks_in_session': []},\n",
       " {'sub': '04', 'ses': None, 'files_per_session': 1, 'tasks_in_session': []},\n",
       " {'sub': '05', 'ses': None, 'files_per_session': 1, 'tasks_in_session': []},\n",
       " {'sub': '02', 'ses': None, 'files_per_session': 1, 'tasks_in_session': []},\n",
       " {'sub': '03', 'ses': None, 'files_per_session': 1, 'tasks_in_session': []}]"
      ]
     },
     "execution_count": 33,
     "metadata": {},
     "output_type": "execute_result"
    }
   ],
   "source": [
    "q.run_query(\"\"\"\n",
    "    SELECT sub, ses,\n",
    "           COUNT(*) as files_per_session,\n",
    "           (DISTINCT task) as tasks_in_session\n",
    "    GROUP BY sub, ses\n",
    "\"\"\", format=\"json\")"
   ]
  },
  {
   "cell_type": "code",
   "execution_count": 34,
   "metadata": {
    "execution": {
     "iopub.execute_input": "2025-07-01T23:36:43.327841Z",
     "iopub.status.busy": "2025-07-01T23:36:43.327582Z",
     "iopub.status.idle": "2025-07-01T23:36:43.332273Z",
     "shell.execute_reply": "2025-07-01T23:36:43.331846Z"
    }
   },
   "outputs": [
    {
     "data": {
      "text/plain": [
       "[{'sub': '01',\n",
       "  'unique_tasks': 2,\n",
       "  'completed_tasks': ['nback', 'rest'],\n",
       "  'total_functional_files': 6},\n",
       " {'sub': '04',\n",
       "  'unique_tasks': 2,\n",
       "  'completed_tasks': ['nback', 'rest'],\n",
       "  'total_functional_files': 6},\n",
       " {'sub': '05',\n",
       "  'unique_tasks': 2,\n",
       "  'completed_tasks': ['nback', 'rest'],\n",
       "  'total_functional_files': 6},\n",
       " {'sub': '02',\n",
       "  'unique_tasks': 2,\n",
       "  'completed_tasks': ['nback', 'rest'],\n",
       "  'total_functional_files': 6},\n",
       " {'sub': '03',\n",
       "  'unique_tasks': 2,\n",
       "  'completed_tasks': ['nback', 'rest'],\n",
       "  'total_functional_files': 6}]"
      ]
     },
     "execution_count": 34,
     "metadata": {},
     "output_type": "execute_result"
    }
   ],
   "source": [
    "q.run_query(\"\"\"\n",
    "    SELECT sub,\n",
    "           COUNT(DISTINCT task) as unique_tasks,\n",
    "           (DISTINCT task) as completed_tasks,\n",
    "           COUNT(*) as total_functional_files\n",
    "    WHERE datatype=func\n",
    "    GROUP BY sub\n",
    "    HAVING COUNT(DISTINCT task) > 1  # Subjects with multiple tasks\n",
    "\"\"\", format=\"json\")"
   ]
  }
 ],
 "metadata": {
  "kernelspec": {
   "display_name": "Python 3",
   "language": "python",
   "name": "python3"
  },
  "language_info": {
   "codemirror_mode": {
    "name": "ipython",
    "version": 3
   },
   "file_extension": ".py",
   "mimetype": "text/x-python",
   "name": "python",
   "nbconvert_exporter": "python",
   "pygments_lexer": "ipython3",
   "version": "3.11.13"
  }
 },
 "nbformat": 4,
 "nbformat_minor": 4
}
