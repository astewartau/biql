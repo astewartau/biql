{
 "cells": [
  {
   "cell_type": "markdown",
   "metadata": {},
   "source": [
    "# BIQL Tutorial Guide\n",
    "\n",
    "Welcome to the BIQL (BIDS Query Language) tutorial! This guide will walk you through\n",
    "using BIQL to query BIDS neuroimaging datasets. We'll start with basic queries and\n",
    "progressively explore more advanced features.\n",
    "\n",
    "## What is BIQL?\n",
    "\n",
    "BIQL is a SQL-like query language designed specifically for querying Brain Imaging \n",
    "Data Structure (BIDS) datasets. It allows you to:\n",
    "\n",
    "- Search for specific files based on BIDS entities (subject, session, task, etc.)\n",
    "- Filter data using metadata from JSON sidecars\n",
    "- Access participant information from participants.tsv\n",
    "- Perform aggregations and grouping operations\n",
    "- Export results in various formats\n",
    "\n",
    "## Prerequisites\n",
    "\n",
    "First, let's set up our environment and get the example data:"
   ]
  },
  {
   "cell_type": "code",
   "execution_count": null,
   "metadata": {
    "execution": {
     "iopub.execute_input": "2025-07-01T08:24:07.825494Z",
     "iopub.status.busy": "2025-07-01T08:24:07.825324Z",
     "iopub.status.idle": "2025-07-01T08:24:11.792950Z",
     "shell.execute_reply": "2025-07-01T08:24:11.792322Z"
    }
   },
   "outputs": [],
   "source": [
    "import tempfile\n",
    "from pathlib import Path\n",
    "from biql import create_query_engine\n",
    "import sys\n",
    "\n",
    "# Install BIQL if running in Colab\n",
    "if 'google.colab' in sys.modules:\n",
    "    !pip install git+https://github.com/astewartau/biql.git > /dev/null 2>&1\n",
    "\n",
    "# Set up paths - use a temporary directory that works in different environments \n",
    "bids_examples_dir = Path(tempfile.gettempdir()) / \"bids-examples\"\n",
    "\n",
    "# Clone bids-examples if it doesn't exist\n",
    "if not bids_examples_dir.exists():\n",
    "    !git clone https://github.com/bids-standard/bids-examples.git {bids_examples_dir} > /dev/null 2>&1"
   ]
  },
  {
   "cell_type": "markdown",
   "metadata": {},
   "source": [
    "## Part 1: Basic Queries\n",
    "\n",
    "Let's start with the synthetic dataset from bids-examples. This is a simple dataset\n",
    "that's perfect for learning BIQL basics."
   ]
  },
  {
   "cell_type": "code",
   "execution_count": null,
   "metadata": {
    "execution": {
     "iopub.execute_input": "2025-07-01T08:24:11.795471Z",
     "iopub.status.busy": "2025-07-01T08:24:11.795014Z",
     "iopub.status.idle": "2025-07-01T08:24:11.837875Z",
     "shell.execute_reply": "2025-07-01T08:24:11.837262Z"
    }
   },
   "outputs": [],
   "source": [
    "dataset_path = bids_examples_dir / \"synthetic\"\n",
    "q = create_query_engine(dataset_path)\n",
    "q.dataset_stats()"
   ]
  },
  {
   "cell_type": "markdown",
   "metadata": {},
   "source": [
    "### Simple Entity Queries\n",
    "\n",
    "The most basic BIQL queries filter files by BIDS entities. You can query by any\n",
    "BIDS entity that appears in your filenames:"
   ]
  },
  {
   "cell_type": "code",
   "execution_count": null,
   "metadata": {
    "execution": {
     "iopub.execute_input": "2025-07-01T08:24:11.871671Z",
     "iopub.status.busy": "2025-07-01T08:24:11.871137Z",
     "iopub.status.idle": "2025-07-01T08:24:12.177203Z",
     "shell.execute_reply": "2025-07-01T08:24:12.176666Z"
    }
   },
   "outputs": [],
   "source": [
    "q.run_query(\"sub=01\", format=\"dataframe\").head(5)"
   ]
  },
  {
   "cell_type": "code",
   "execution_count": null,
   "metadata": {
    "execution": {
     "iopub.execute_input": "2025-07-01T08:24:12.179262Z",
     "iopub.status.busy": "2025-07-01T08:24:12.178860Z",
     "iopub.status.idle": "2025-07-01T08:24:12.183029Z",
     "shell.execute_reply": "2025-07-01T08:24:12.182460Z"
    }
   },
   "outputs": [],
   "source": [
    "results = q.run_query(\"datatype=func\")\n",
    "len(results)  # Number of functional files"
   ]
  },
  {
   "cell_type": "code",
   "execution_count": null,
   "metadata": {
    "execution": {
     "iopub.execute_input": "2025-07-01T08:24:12.184907Z",
     "iopub.status.busy": "2025-07-01T08:24:12.184579Z",
     "iopub.status.idle": "2025-07-01T08:24:12.190103Z",
     "shell.execute_reply": "2025-07-01T08:24:12.189653Z"
    }
   },
   "outputs": [],
   "source": [
    "q.run_query(\"SELECT DISTINCT task WHERE datatype=func\", format=\"dataframe\")"
   ]
  },
  {
   "cell_type": "markdown",
   "metadata": {},
   "source": [
    "### Combining Conditions\n",
    "\n",
    "You can combine multiple conditions using AND, OR, and NOT operators:"
   ]
  },
  {
   "cell_type": "code",
   "execution_count": null,
   "metadata": {
    "execution": {
     "iopub.execute_input": "2025-07-01T08:24:12.191966Z",
     "iopub.status.busy": "2025-07-01T08:24:12.191632Z",
     "iopub.status.idle": "2025-07-01T08:24:12.200209Z",
     "shell.execute_reply": "2025-07-01T08:24:12.199660Z"
    }
   },
   "outputs": [],
   "source": [
    "q.run_query(\"datatype=anat AND suffix=T1w\", format=\"dataframe\").head(5)"
   ]
  },
  {
   "cell_type": "code",
   "execution_count": null,
   "metadata": {
    "execution": {
     "iopub.execute_input": "2025-07-01T08:24:12.202044Z",
     "iopub.status.busy": "2025-07-01T08:24:12.201640Z",
     "iopub.status.idle": "2025-07-01T08:24:12.211040Z",
     "shell.execute_reply": "2025-07-01T08:24:12.210472Z"
    }
   },
   "outputs": [],
   "source": [
    "q.run_query(\"task=nback OR task=rest\", format=\"dataframe\").head(5)"
   ]
  },
  {
   "cell_type": "markdown",
   "metadata": {},
   "source": [
    "### Using WHERE Clause\n",
    "\n",
    "For more SQL-like queries, you can use the WHERE clause:"
   ]
  },
  {
   "cell_type": "code",
   "execution_count": null,
   "metadata": {
    "execution": {
     "iopub.execute_input": "2025-07-01T08:24:12.212885Z",
     "iopub.status.busy": "2025-07-01T08:24:12.212493Z",
     "iopub.status.idle": "2025-07-01T08:24:12.221585Z",
     "shell.execute_reply": "2025-07-01T08:24:12.221112Z"
    }
   },
   "outputs": [],
   "source": [
    "q.run_query(\"WHERE sub=01 AND datatype=func\", format=\"dataframe\")"
   ]
  },
  {
   "cell_type": "markdown",
   "metadata": {},
   "source": [
    "## Part 2: SELECT Clause and Field Selection\n",
    "\n",
    "By default, BIQL returns all available fields. Use SELECT to choose specific fields:"
   ]
  },
  {
   "cell_type": "code",
   "execution_count": null,
   "metadata": {
    "execution": {
     "iopub.execute_input": "2025-07-01T08:24:12.223364Z",
     "iopub.status.busy": "2025-07-01T08:24:12.222962Z",
     "iopub.status.idle": "2025-07-01T08:24:12.229526Z",
     "shell.execute_reply": "2025-07-01T08:24:12.229042Z"
    }
   },
   "outputs": [],
   "source": [
    "q.run_query(\n",
    "    \"SELECT sub, task, run, filename WHERE datatype=func\",\n",
    "    format=\"dataframe\"\n",
    ").head(5)"
   ]
  },
  {
   "cell_type": "code",
   "execution_count": null,
   "metadata": {
    "execution": {
     "iopub.execute_input": "2025-07-01T08:24:12.231063Z",
     "iopub.status.busy": "2025-07-01T08:24:12.230898Z",
     "iopub.status.idle": "2025-07-01T08:24:12.236807Z",
     "shell.execute_reply": "2025-07-01T08:24:12.236353Z"
    }
   },
   "outputs": [],
   "source": [
    "q.run_query(\n",
    "    \"SELECT sub, relative_path WHERE suffix=T1w\",\n",
    "    format=\"dataframe\"\n",
    ")"
   ]
  },
  {
   "cell_type": "markdown",
   "metadata": {},
   "source": [
    "## Part 3: Pattern Matching\n",
    "\n",
    "BIQL supports wildcards and regular expressions for flexible matching:"
   ]
  },
  {
   "cell_type": "code",
   "execution_count": null,
   "metadata": {
    "execution": {
     "iopub.execute_input": "2025-07-01T08:24:12.238463Z",
     "iopub.status.busy": "2025-07-01T08:24:12.238298Z",
     "iopub.status.idle": "2025-07-01T08:24:12.242255Z",
     "shell.execute_reply": "2025-07-01T08:24:12.241816Z"
    }
   },
   "outputs": [],
   "source": [
    "results = q.run_query(\"suffix=*bold*\")\n",
    "len(results)  # Count of files with 'bold' in suffix"
   ]
  },
  {
   "cell_type": "code",
   "execution_count": null,
   "metadata": {
    "execution": {
     "iopub.execute_input": "2025-07-01T08:24:12.243986Z",
     "iopub.status.busy": "2025-07-01T08:24:12.243637Z",
     "iopub.status.idle": "2025-07-01T08:24:12.249240Z",
     "shell.execute_reply": "2025-07-01T08:24:12.248790Z"
    }
   },
   "outputs": [],
   "source": [
    "q.run_query(\n",
    "    \"SELECT DISTINCT task WHERE task~=\\\".*back*\\\"\",\n",
    "    format=\"dataframe\"\n",
    ")"
   ]
  },
  {
   "cell_type": "markdown",
   "metadata": {},
   "source": [
    "## Part 4: Ranges and Lists\n",
    "\n",
    "BIQL supports convenient syntax for matching multiple values and ranges:"
   ]
  },
  {
   "cell_type": "markdown",
   "metadata": {},
   "source": [
    "### List Matching with IN\n",
    "\n",
    "Use `IN` to match any value from a list:"
   ]
  },
  {
   "cell_type": "code",
   "execution_count": null,
   "metadata": {
    "execution": {
     "iopub.execute_input": "2025-07-01T08:24:12.251035Z",
     "iopub.status.busy": "2025-07-01T08:24:12.250703Z",
     "iopub.status.idle": "2025-07-01T08:24:12.255540Z",
     "shell.execute_reply": "2025-07-01T08:24:12.254948Z"
    }
   },
   "outputs": [],
   "source": [
    "# Find files for specific subjects\n",
    "q.run_query(\n",
    "    \"SELECT sub, task, filename WHERE sub IN ['01', '02', '03'] AND datatype=func\",\n",
    "    format=\"dataframe\"\n",
    ").head()"
   ]
  },
  {
   "cell_type": "code",
   "execution_count": null,
   "metadata": {
    "execution": {
     "iopub.execute_input": "2025-07-01T08:24:12.257252Z",
     "iopub.status.busy": "2025-07-01T08:24:12.256931Z",
     "iopub.status.idle": "2025-07-01T08:24:12.263357Z",
     "shell.execute_reply": "2025-07-01T08:24:12.262773Z"
    }
   },
   "outputs": [],
   "source": [
    "# Find specific tasks\n",
    "q.run_query(\n",
    "    \"SELECT DISTINCT sub WHERE task IN ['nback', 'rest']\",\n",
    "    format=\"dataframe\"\n",
    ")"
   ]
  },
  {
   "cell_type": "code",
   "execution_count": null,
   "metadata": {},
   "outputs": [],
   "source": [
    "# Combining lists and other conditions  \n",
    "q.run_query(\n",
    "    \"SELECT sub, COUNT(*) as file_count \"\n",
    "    \"WHERE sub IN ['01', '02'] AND task IN ['nback', 'rest'] \"\n",
    "    \"GROUP BY sub\",\n",
    "    format=\"dataframe\"\n",
    ")"
   ]
  },
  {
   "cell_type": "markdown",
   "metadata": {},
   "source": [
    "### Range Matching\n",
    "\n",
    "Use `[start:end]` syntax for numeric ranges (inclusive):"
   ]
  },
  {
   "cell_type": "code",
   "execution_count": null,
   "metadata": {},
   "outputs": [],
   "source": [
    "# Find runs 1 and 2 (inclusive range)\n",
    "q.run_query(\n",
    "    \"SELECT sub, task, run WHERE run=[1:2] AND datatype=func\",\n",
    "    format=\"dataframe\"\n",
    ")"
   ]
  },
  {
   "cell_type": "markdown",
   "metadata": {},
   "source": [
    "## Part 5: Grouping and Aggregation\n",
    "\n",
    "BIQL supports SQL-like grouping and aggregation functions:"
   ]
  },
  {
   "cell_type": "code",
   "execution_count": null,
   "metadata": {
    "execution": {
     "iopub.execute_input": "2025-07-01T08:24:12.265131Z",
     "iopub.status.busy": "2025-07-01T08:24:12.264809Z",
     "iopub.status.idle": "2025-07-01T08:24:12.270707Z",
     "shell.execute_reply": "2025-07-01T08:24:12.270143Z"
    }
   },
   "outputs": [],
   "source": [
    "q.run_query(\"SELECT sub, COUNT(*) GROUP BY sub\", format=\"dataframe\")"
   ]
  },
  {
   "cell_type": "code",
   "execution_count": null,
   "metadata": {
    "execution": {
     "iopub.execute_input": "2025-07-01T08:24:12.272519Z",
     "iopub.status.busy": "2025-07-01T08:24:12.272185Z",
     "iopub.status.idle": "2025-07-01T08:24:12.277477Z",
     "shell.execute_reply": "2025-07-01T08:24:12.276924Z"
    }
   },
   "outputs": [],
   "source": [
    "q.run_query(\n",
    "    \"SELECT sub, datatype, COUNT(*) GROUP BY sub, datatype\",\n",
    "    format=\"json\"\n",
    ")"
   ]
  },
  {
   "cell_type": "code",
   "execution_count": null,
   "metadata": {},
   "outputs": [],
   "source": [
    "# Compare DISTINCT vs non-DISTINCT - get all task names (including duplicates)\n",
    "q.run_query(\n",
    "    \"SELECT sub, (task) as all_task_names, (DISTINCT task) as unique_tasks \"\n",
    "    \"WHERE sub='01' \"\n",
    "    \"GROUP BY sub\",\n",
    "    format=\"json\"\n",
    ")"
   ]
  },
  {
   "cell_type": "code",
   "execution_count": null,
   "metadata": {},
   "outputs": [],
   "source": [
    "# Get unique tasks per subject\n",
    "q.run_query(\n",
    "    \"SELECT sub, (DISTINCT task) as unique_tasks, COUNT(*) as total_files \"\n",
    "    \"WHERE sub IN ['01', '02', '03'] \"\n",
    "    \"GROUP BY sub\",\n",
    "    format=\"json\"\n",
    ")"
   ]
  },
  {
   "cell_type": "markdown",
   "metadata": {},
   "source": [
    "### Array Aggregation with DISTINCT\n",
    "\n",
    "BIQL supports collecting values into arrays using the `(field)` syntax:\n",
    "\n",
    "- `(DISTINCT field)` returns unique non-null values  \n",
    "- `(field)` returns all values including duplicates"
   ]
  },
  {
   "cell_type": "markdown",
   "metadata": {},
   "source": [
    "## Part 6: Working with Metadata\n",
    "\n",
    "BIQL can query JSON sidecar metadata using the `metadata.` namespace. \n",
    "Let's explore a more complex dataset to see this in action:"
   ]
  },
  {
   "cell_type": "code",
   "execution_count": null,
   "metadata": {
    "execution": {
     "iopub.execute_input": "2025-07-01T08:24:12.279351Z",
     "iopub.status.busy": "2025-07-01T08:24:12.279007Z",
     "iopub.status.idle": "2025-07-01T08:24:12.283881Z",
     "shell.execute_reply": "2025-07-01T08:24:12.283341Z"
    }
   },
   "outputs": [],
   "source": [
    "# Switch to a dataset with more metadata  \n",
    "ds2_path = bids_examples_dir / \"ds000117\"\n",
    "q2 = create_query_engine(ds2_path) if (bids_examples_dir / \"ds000117\").exists() else q\n",
    "\n",
    "# Show what metadata fields are available\n",
    "q2.run_query(\n",
    "    \"SELECT DISTINCT task WHERE datatype=func\",\n",
    "    format=\"dataframe\"\n",
    ")"
   ]
  },
  {
   "cell_type": "code",
   "execution_count": null,
   "metadata": {
    "execution": {
     "iopub.execute_input": "2025-07-01T08:24:12.285620Z",
     "iopub.status.busy": "2025-07-01T08:24:12.285259Z",
     "iopub.status.idle": "2025-07-01T08:24:12.290225Z",
     "shell.execute_reply": "2025-07-01T08:24:12.289684Z"
    }
   },
   "outputs": [],
   "source": [
    "# For the synthetic dataset, we can still demonstrate basic grouping by task\n",
    "q.run_query(\n",
    "    \"SELECT task, COUNT(*) as file_count, \"\n",
    "    \"COUNT(DISTINCT sub) as subjects \"\n",
    "    \"GROUP BY task\",\n",
    "    format=\"dataframe\"\n",
    ")"
   ]
  },
  {
   "cell_type": "markdown",
   "metadata": {},
   "source": [
    "## Part 7: Participant Information\n",
    "\n",
    "Access participant demographics using the `participants.` namespace:"
   ]
  },
  {
   "cell_type": "code",
   "execution_count": null,
   "metadata": {
    "execution": {
     "iopub.execute_input": "2025-07-01T08:24:12.292023Z",
     "iopub.status.busy": "2025-07-01T08:24:12.291681Z",
     "iopub.status.idle": "2025-07-01T08:24:12.297913Z",
     "shell.execute_reply": "2025-07-01T08:24:12.297470Z"
    }
   },
   "outputs": [],
   "source": [
    "q.run_query(\n",
    "    \"SELECT DISTINCT sub, participants.age, participants.sex\",\n",
    "    format=\"dataframe\"\n",
    ")"
   ]
  },
  {
   "cell_type": "code",
   "execution_count": null,
   "metadata": {
    "execution": {
     "iopub.execute_input": "2025-07-01T08:24:12.299467Z",
     "iopub.status.busy": "2025-07-01T08:24:12.299316Z",
     "iopub.status.idle": "2025-07-01T08:24:12.306443Z",
     "shell.execute_reply": "2025-07-01T08:24:12.305986Z"
    }
   },
   "outputs": [],
   "source": [
    "q.run_query(\n",
    "    \"SELECT sub, task, participants.age WHERE participants.age > 25\",\n",
    "    format=\"dataframe\"\n",
    ")"
   ]
  },
  {
   "cell_type": "markdown",
   "metadata": {},
   "source": [
    "## Part 8: Advanced Queries\n",
    "\n",
    "Let's combine multiple features for more complex queries:"
   ]
  },
  {
   "cell_type": "code",
   "execution_count": null,
   "metadata": {
    "execution": {
     "iopub.execute_input": "2025-07-01T08:24:12.307996Z",
     "iopub.status.busy": "2025-07-01T08:24:12.307845Z",
     "iopub.status.idle": "2025-07-01T08:24:12.313119Z",
     "shell.execute_reply": "2025-07-01T08:24:12.312678Z"
    }
   },
   "outputs": [],
   "source": [
    "q.run_query(\"\"\"\n",
    "    SELECT sub, ses, task, COUNT(*) as n_runs\n",
    "    WHERE datatype=func AND task != rest\n",
    "    GROUP BY sub, ses, task\n",
    "    HAVING COUNT(*) > 1\n",
    "    ORDER BY sub, task\n",
    "\"\"\", format=\"json\")"
   ]
  },
  {
   "cell_type": "code",
   "execution_count": null,
   "metadata": {
    "execution": {
     "iopub.execute_input": "2025-07-01T08:24:12.314616Z",
     "iopub.status.busy": "2025-07-01T08:24:12.314467Z",
     "iopub.status.idle": "2025-07-01T08:24:12.322127Z",
     "shell.execute_reply": "2025-07-01T08:24:12.321686Z"
    }
   },
   "outputs": [],
   "source": [
    "q.run_query(\"\"\"\n",
    "    SELECT sub, task,\n",
    "           (filename WHERE suffix='bold') as imaging_files,\n",
    "           (filename WHERE run='01') as run01_files,\n",
    "           (filename WHERE run='02') as run02_files\n",
    "    WHERE datatype=func\n",
    "    GROUP BY sub, task\n",
    "\"\"\", format=\"table\")  # Using table format since arrays don't display well in dataframes"
   ]
  },
  {
   "cell_type": "markdown",
   "metadata": {},
   "source": [
    "## Part 9: Output Formats\n",
    "\n",
    "BIQL supports multiple output formats for different use cases:"
   ]
  },
  {
   "cell_type": "code",
   "execution_count": null,
   "metadata": {
    "execution": {
     "iopub.execute_input": "2025-07-01T08:24:12.323664Z",
     "iopub.status.busy": "2025-07-01T08:24:12.323514Z",
     "iopub.status.idle": "2025-07-01T08:24:12.327014Z",
     "shell.execute_reply": "2025-07-01T08:24:12.326563Z"
    }
   },
   "outputs": [],
   "source": [
    "sample_query = \"SELECT sub, task, run WHERE datatype=func AND sub=01\"\n",
    "\n",
    "print(q.run_query(sample_query, format=\"table\"))"
   ]
  },
  {
   "cell_type": "code",
   "execution_count": null,
   "metadata": {
    "execution": {
     "iopub.execute_input": "2025-07-01T08:24:12.328585Z",
     "iopub.status.busy": "2025-07-01T08:24:12.328408Z",
     "iopub.status.idle": "2025-07-01T08:24:12.331894Z",
     "shell.execute_reply": "2025-07-01T08:24:12.331339Z"
    }
   },
   "outputs": [],
   "source": [
    "print(q.run_query(sample_query, format=\"csv\"))"
   ]
  },
  {
   "cell_type": "code",
   "execution_count": null,
   "metadata": {
    "execution": {
     "iopub.execute_input": "2025-07-01T08:24:12.333733Z",
     "iopub.status.busy": "2025-07-01T08:24:12.333416Z",
     "iopub.status.idle": "2025-07-01T08:24:12.337605Z",
     "shell.execute_reply": "2025-07-01T08:24:12.337138Z"
    }
   },
   "outputs": [],
   "source": [
    "results_json = q.run_query(sample_query, format=\"json\")\n",
    "results_json[:2]  # Show first 2 entries"
   ]
  },
  {
   "cell_type": "code",
   "execution_count": null,
   "metadata": {
    "execution": {
     "iopub.execute_input": "2025-07-01T08:24:12.339324Z",
     "iopub.status.busy": "2025-07-01T08:24:12.338974Z",
     "iopub.status.idle": "2025-07-01T08:24:12.342345Z",
     "shell.execute_reply": "2025-07-01T08:24:12.341777Z"
    }
   },
   "outputs": [],
   "source": [
    "print(q.run_query(\"WHERE sub=01 AND suffix=T1w\", format=\"paths\"))"
   ]
  },
  {
   "cell_type": "code",
   "execution_count": null,
   "metadata": {
    "execution": {
     "iopub.execute_input": "2025-07-01T08:24:12.344011Z",
     "iopub.status.busy": "2025-07-01T08:24:12.343703Z",
     "iopub.status.idle": "2025-07-01T08:24:12.349705Z",
     "shell.execute_reply": "2025-07-01T08:24:12.349119Z"
    }
   },
   "outputs": [],
   "source": [
    "q.run_query(sample_query, format=\"dataframe\")"
   ]
  },
  {
   "cell_type": "markdown",
   "metadata": {},
   "source": [
    "## Part 10: Real-World Examples\n",
    "\n",
    "Let's look at some practical queries you might use in neuroimaging research:"
   ]
  },
  {
   "cell_type": "code",
   "execution_count": null,
   "metadata": {
    "execution": {
     "iopub.execute_input": "2025-07-01T08:24:12.351498Z",
     "iopub.status.busy": "2025-07-01T08:24:12.351063Z",
     "iopub.status.idle": "2025-07-01T08:24:12.355890Z",
     "shell.execute_reply": "2025-07-01T08:24:12.355443Z"
    }
   },
   "outputs": [],
   "source": [
    "q.run_query(\"\"\"\n",
    "    SELECT sub, \n",
    "           COUNT(*) as total_files,\n",
    "           COUNT(DISTINCT datatype) as datatypes,\n",
    "           (DISTINCT datatype) as available_data\n",
    "    GROUP BY sub\n",
    "\"\"\", format=\"json\")"
   ]
  },
  {
   "cell_type": "code",
   "execution_count": null,
   "metadata": {
    "execution": {
     "iopub.execute_input": "2025-07-01T08:24:12.357566Z",
     "iopub.status.busy": "2025-07-01T08:24:12.357297Z",
     "iopub.status.idle": "2025-07-01T08:24:12.362943Z",
     "shell.execute_reply": "2025-07-01T08:24:12.362380Z"
    }
   },
   "outputs": [],
   "source": [
    "q.run_query(\"\"\"\n",
    "    SELECT sub, ses,\n",
    "           COUNT(*) as files_per_session,\n",
    "           (DISTINCT task) as tasks_in_session\n",
    "    GROUP BY sub, ses\n",
    "\"\"\", format=\"json\")"
   ]
  },
  {
   "cell_type": "code",
   "execution_count": null,
   "metadata": {
    "execution": {
     "iopub.execute_input": "2025-07-01T08:24:12.364682Z",
     "iopub.status.busy": "2025-07-01T08:24:12.364370Z",
     "iopub.status.idle": "2025-07-01T08:24:12.369295Z",
     "shell.execute_reply": "2025-07-01T08:24:12.368721Z"
    }
   },
   "outputs": [],
   "source": [
    "q.run_query(\"\"\"\n",
    "    SELECT sub,\n",
    "           COUNT(DISTINCT task) as unique_tasks,\n",
    "           (DISTINCT task) as completed_tasks,\n",
    "           COUNT(*) as total_functional_files\n",
    "    WHERE datatype=func\n",
    "    GROUP BY sub\n",
    "    HAVING COUNT(DISTINCT task) > 1  # Subjects with multiple tasks\n",
    "\"\"\", format=\"json\")"
   ]
  }
 ],
 "metadata": {
  "kernelspec": {
   "display_name": "Python 3",
   "language": "python",
   "name": "python3"
  },
  "language_info": {
   "codemirror_mode": {
    "name": "ipython",
    "version": 3
   },
   "file_extension": ".py",
   "mimetype": "text/x-python",
   "name": "python",
   "nbconvert_exporter": "python",
   "pygments_lexer": "ipython3",
   "version": "3.11.13"
  }
 },
 "nbformat": 4,
 "nbformat_minor": 4
}
