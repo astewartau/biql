{
 "cells": [
  {
   "cell_type": "markdown",
   "metadata": {},
   "source": [
    "# BIQL Tutorial Guide\n",
    "\n",
    "Welcome to the BIQL (BIDS Query Language) tutorial! This guide will walk you through\n",
    "using BIQL to query BIDS neuroimaging datasets. We'll start with basic queries and\n",
    "progressively explore more advanced features.\n",
    "\n",
    "## What is BIQL?\n",
    "\n",
    "BIQL is a SQL-like query language designed specifically for querying Brain Imaging \n",
    "Data Structure (BIDS) datasets. It allows you to:\n",
    "\n",
    "- Search for specific files based on BIDS entities (subject, session, task, etc.)\n",
    "- Filter data using metadata from JSON sidecars\n",
    "- Access participant information from participants.tsv\n",
    "- Perform aggregations and grouping operations\n",
    "- Export results in various formats\n",
    "\n",
    "## Prerequisites\n",
    "\n",
    "First, let's set up our environment and get the example data:"
   ]
  },
  {
   "cell_type": "code",
   "execution_count": 3,
   "metadata": {
    "execution": {
     "iopub.execute_input": "2025-06-30T23:20:47.489988Z",
     "iopub.status.busy": "2025-06-30T23:20:47.489587Z",
     "iopub.status.idle": "2025-06-30T23:20:51.423635Z",
     "shell.execute_reply": "2025-06-30T23:20:51.422931Z"
    }
   },
   "outputs": [],
   "source": [
    "import tempfile\n",
    "from pathlib import Path\n",
    "from biql import create_query_engine\n",
    "import sys\n",
    "\n",
    "# Install BIQL if running in Colab\n",
    "if 'google.colab' in sys.modules:\n",
    "    !pip install git+https://github.com/astewartau/biql.git > /dev/null 2>&1\n",
    "\n",
    "# Set up paths - use a temporary directory that works in different environments\n",
    "bids_examples_dir = Path(tempfile.gettempdir()) / \"bids-examples\"\n",
    "\n",
    "# Clone bids-examples if it doesn't exist\n",
    "if not bids_examples_dir.exists():\n",
    "    !git clone https://github.com/bids-standard/bids-examples.git {bids_examples_dir} > /dev/null 2>&1"
   ]
  },
  {
   "cell_type": "markdown",
   "metadata": {},
   "source": [
    "## Part 1: Basic Queries\n",
    "\n",
    "Let's start with the synthetic dataset from bids-examples. This is a simple dataset\n",
    "that's perfect for learning BIQL basics."
   ]
  },
  {
   "cell_type": "code",
   "execution_count": null,
   "metadata": {
    "execution": {
     "iopub.execute_input": "2025-06-30T23:20:51.425992Z",
     "iopub.status.busy": "2025-06-30T23:20:51.425797Z",
     "iopub.status.idle": "2025-06-30T23:20:51.468051Z",
     "shell.execute_reply": "2025-06-30T23:20:51.467595Z"
    }
   },
   "outputs": [],
   "source": [
    "dataset_path = bids_examples_dir / \"synthetic\"\n",
    "q = create_query_engine(dataset_path)\n",
    "q.dataset_stats()"
   ]
  },
  {
   "cell_type": "markdown",
   "metadata": {},
   "source": [
    "### Simple Entity Queries\n",
    "\n",
    "The most basic BIQL queries filter files by BIDS entities. You can query by any\n",
    "BIDS entity that appears in your filenames:"
   ]
  },
  {
   "cell_type": "code",
   "execution_count": null,
   "metadata": {
    "execution": {
     "iopub.execute_input": "2025-06-30T23:20:51.469990Z",
     "iopub.status.busy": "2025-06-30T23:20:51.469633Z",
     "iopub.status.idle": "2025-06-30T23:20:51.728517Z",
     "shell.execute_reply": "2025-06-30T23:20:51.727891Z"
    }
   },
   "outputs": [],
   "source": [
    "q.run_query(\"sub=01\", format=\"dataframe\").head(5)"
   ]
  },
  {
   "cell_type": "code",
   "execution_count": null,
   "metadata": {
    "execution": {
     "iopub.execute_input": "2025-06-30T23:20:51.730648Z",
     "iopub.status.busy": "2025-06-30T23:20:51.730236Z",
     "iopub.status.idle": "2025-06-30T23:20:51.734589Z",
     "shell.execute_reply": "2025-06-30T23:20:51.734031Z"
    }
   },
   "outputs": [],
   "source": [
    "results = q.run_query(\"datatype=func\")\n",
    "len(results)  # Number of functional files"
   ]
  },
  {
   "cell_type": "code",
   "execution_count": null,
   "metadata": {
    "execution": {
     "iopub.execute_input": "2025-06-30T23:20:51.736603Z",
     "iopub.status.busy": "2025-06-30T23:20:51.736212Z",
     "iopub.status.idle": "2025-06-30T23:20:51.741933Z",
     "shell.execute_reply": "2025-06-30T23:20:51.741452Z"
    }
   },
   "outputs": [],
   "source": [
    "q.run_query(\"SELECT DISTINCT task WHERE datatype=func\", format=\"dataframe\")"
   ]
  },
  {
   "cell_type": "markdown",
   "metadata": {},
   "source": [
    "### Combining Conditions\n",
    "\n",
    "You can combine multiple conditions using AND, OR, and NOT operators:"
   ]
  },
  {
   "cell_type": "code",
   "execution_count": null,
   "metadata": {
    "execution": {
     "iopub.execute_input": "2025-06-30T23:20:51.743519Z",
     "iopub.status.busy": "2025-06-30T23:20:51.743354Z",
     "iopub.status.idle": "2025-06-30T23:20:51.751843Z",
     "shell.execute_reply": "2025-06-30T23:20:51.751382Z"
    }
   },
   "outputs": [],
   "source": [
    "q.run_query(\"datatype=anat AND suffix=T1w\", format=\"dataframe\").head(5)"
   ]
  },
  {
   "cell_type": "code",
   "execution_count": null,
   "metadata": {
    "execution": {
     "iopub.execute_input": "2025-06-30T23:20:51.753347Z",
     "iopub.status.busy": "2025-06-30T23:20:51.753177Z",
     "iopub.status.idle": "2025-06-30T23:20:51.765100Z",
     "shell.execute_reply": "2025-06-30T23:20:51.764625Z"
    }
   },
   "outputs": [],
   "source": [
    "q.run_query(\"task=nback OR task=rest\", format=\"dataframe\")"
   ]
  },
  {
   "cell_type": "markdown",
   "metadata": {},
   "source": [
    "### Using WHERE Clause\n",
    "\n",
    "For more SQL-like queries, you can use the WHERE clause:"
   ]
  },
  {
   "cell_type": "code",
   "execution_count": null,
   "metadata": {
    "execution": {
     "iopub.execute_input": "2025-06-30T23:20:51.766636Z",
     "iopub.status.busy": "2025-06-30T23:20:51.766487Z",
     "iopub.status.idle": "2025-06-30T23:20:51.775686Z",
     "shell.execute_reply": "2025-06-30T23:20:51.775122Z"
    }
   },
   "outputs": [],
   "source": [
    "q.run_query(\"WHERE sub=01 AND datatype=func\", format=\"dataframe\")"
   ]
  },
  {
   "cell_type": "markdown",
   "metadata": {},
   "source": [
    "## Part 2: SELECT Clause and Field Selection\n",
    "\n",
    "By default, BIQL returns all available fields. Use SELECT to choose specific fields:"
   ]
  },
  {
   "cell_type": "code",
   "execution_count": null,
   "metadata": {
    "execution": {
     "iopub.execute_input": "2025-06-30T23:20:51.777590Z",
     "iopub.status.busy": "2025-06-30T23:20:51.777194Z",
     "iopub.status.idle": "2025-06-30T23:20:51.784787Z",
     "shell.execute_reply": "2025-06-30T23:20:51.784221Z"
    }
   },
   "outputs": [],
   "source": [
    "q.run_query(\n",
    "    \"SELECT sub, task, run, filename WHERE datatype=func\",\n",
    "    format=\"dataframe\"\n",
    ")"
   ]
  },
  {
   "cell_type": "code",
   "execution_count": null,
   "metadata": {
    "execution": {
     "iopub.execute_input": "2025-06-30T23:20:51.786587Z",
     "iopub.status.busy": "2025-06-30T23:20:51.786195Z",
     "iopub.status.idle": "2025-06-30T23:20:51.792084Z",
     "shell.execute_reply": "2025-06-30T23:20:51.791509Z"
    }
   },
   "outputs": [],
   "source": [
    "q.run_query(\n",
    "    \"SELECT sub, relative_path WHERE suffix=T1w\",\n",
    "    format=\"dataframe\"\n",
    ")"
   ]
  },
  {
   "cell_type": "markdown",
   "metadata": {},
   "source": [
    "## Part 3: Pattern Matching\n",
    "\n",
    "BIQL supports wildcards and regular expressions for flexible matching:"
   ]
  },
  {
   "cell_type": "code",
   "execution_count": null,
   "metadata": {
    "execution": {
     "iopub.execute_input": "2025-06-30T23:20:51.794163Z",
     "iopub.status.busy": "2025-06-30T23:20:51.793625Z",
     "iopub.status.idle": "2025-06-30T23:20:51.797531Z",
     "shell.execute_reply": "2025-06-30T23:20:51.797092Z"
    }
   },
   "outputs": [],
   "source": [
    "results = q.run_query(\"suffix=*bold*\")\n",
    "len(results)  # Count of files with 'bold' in suffix"
   ]
  },
  {
   "cell_type": "code",
   "execution_count": null,
   "metadata": {
    "execution": {
     "iopub.execute_input": "2025-06-30T23:20:51.799314Z",
     "iopub.status.busy": "2025-06-30T23:20:51.798987Z",
     "iopub.status.idle": "2025-06-30T23:20:51.804411Z",
     "shell.execute_reply": "2025-06-30T23:20:51.803839Z"
    }
   },
   "outputs": [],
   "source": [
    "q.run_query(\n",
    "    \"SELECT DISTINCT task WHERE task~=\\\".*back.*\\\"\",\n",
    "    format=\"dataframe\"\n",
    ")"
   ]
  },
  {
   "cell_type": "markdown",
   "metadata": {},
   "source": [
    "## Part 4: Ranges and Lists\n",
    "\n",
    "BIQL supports range queries and IN operators for matching multiple values:"
   ]
  },
  {
   "cell_type": "code",
   "execution_count": null,
   "metadata": {
    "execution": {
     "iopub.execute_input": "2025-06-30T23:20:51.806159Z",
     "iopub.status.busy": "2025-06-30T23:20:51.806006Z",
     "iopub.status.idle": "2025-06-30T23:20:51.810643Z",
     "shell.execute_reply": "2025-06-30T23:20:51.810202Z"
    }
   },
   "outputs": [],
   "source": [
    "q.run_query(\n",
    "    \"SELECT sub, ARRAY_AGG(DISTINCT task) as tasks, COUNT(*) as total_files \"\n",
    "    \"WHERE sub IN ['01', '02', '03'] \"\n",
    "    \"GROUP BY sub\",\n",
    "    format=\"json\"\n",
    ")"
   ]
  },
  {
   "cell_type": "code",
   "execution_count": null,
   "metadata": {
    "execution": {
     "iopub.execute_input": "2025-06-30T23:20:51.812328Z",
     "iopub.status.busy": "2025-06-30T23:20:51.811999Z",
     "iopub.status.idle": "2025-06-30T23:20:51.818513Z",
     "shell.execute_reply": "2025-06-30T23:20:51.818065Z"
    }
   },
   "outputs": [],
   "source": [
    "q.run_query(\n",
    "    \"SELECT task, run, COUNT(*) as file_count, \"\n",
    "    \"COUNT(DISTINCT sub) as subjects \"\n",
    "    \"WHERE datatype=func \"\n",
    "    \"GROUP BY task, run \"\n",
    "    \"ORDER BY task, run\",\n",
    "    format=\"dataframe\"\n",
    ")"
   ]
  },
  {
   "cell_type": "markdown",
   "metadata": {},
   "source": [
    "## Part 5: Grouping and Aggregation\n",
    "\n",
    "BIQL supports SQL-like grouping and aggregation functions:"
   ]
  },
  {
   "cell_type": "code",
   "execution_count": null,
   "metadata": {
    "execution": {
     "iopub.execute_input": "2025-06-30T23:20:51.820264Z",
     "iopub.status.busy": "2025-06-30T23:20:51.819934Z",
     "iopub.status.idle": "2025-06-30T23:20:51.825987Z",
     "shell.execute_reply": "2025-06-30T23:20:51.825513Z"
    }
   },
   "outputs": [],
   "source": [
    "q.run_query(\"SELECT sub, COUNT(*) GROUP BY sub\", format=\"dataframe\")"
   ]
  },
  {
   "cell_type": "code",
   "execution_count": null,
   "metadata": {
    "execution": {
     "iopub.execute_input": "2025-06-30T23:20:51.827531Z",
     "iopub.status.busy": "2025-06-30T23:20:51.827380Z",
     "iopub.status.idle": "2025-06-30T23:20:51.832731Z",
     "shell.execute_reply": "2025-06-30T23:20:51.832280Z"
    }
   },
   "outputs": [],
   "source": [
    "q.run_query(\n",
    "    \"SELECT sub, datatype, COUNT(*) GROUP BY sub, datatype\",\n",
    "    format=\"json\"\n",
    ")"
   ]
  },
  {
   "cell_type": "markdown",
   "metadata": {},
   "source": [
    "## Part 6: Working with Metadata\n",
    "\n",
    "BIQL can query JSON sidecar metadata using the `metadata.` namespace.\n",
    "The synthetic dataset has task-level metadata files like `task-nback_bold.json`:"
   ]
  },
  {
   "cell_type": "code",
   "execution_count": null,
   "metadata": {
    "execution": {
     "iopub.execute_input": "2025-06-30T23:20:51.834310Z",
     "iopub.status.busy": "2025-06-30T23:20:51.834146Z",
     "iopub.status.idle": "2025-06-30T23:20:51.839049Z",
     "shell.execute_reply": "2025-06-30T23:20:51.838581Z"
    }
   },
   "outputs": [],
   "source": [
    "q.run_query(\n",
    "    \"SELECT task, COUNT(*) as file_count, \"\n",
    "    \"ARRAY_AGG(DISTINCT sub) as subjects_with_task, \"\n",
    "    \"ARRAY_AGG(DISTINCT datatype) as datatypes \"\n",
    "    \"GROUP BY task\",\n",
    "    format=\"json\"\n",
    ")"
   ]
  },
  {
   "cell_type": "code",
   "execution_count": null,
   "metadata": {
    "execution": {
     "iopub.execute_input": "2025-06-30T23:20:51.840568Z",
     "iopub.status.busy": "2025-06-30T23:20:51.840419Z",
     "iopub.status.idle": "2025-06-30T23:20:51.845430Z",
     "shell.execute_reply": "2025-06-30T23:20:51.844990Z"
    }
   },
   "outputs": [],
   "source": [
    "q.run_query(\n",
    "    \"SELECT datatype, COUNT(*) as total_files, \"\n",
    "    \"COUNT(DISTINCT sub) as subjects, \"\n",
    "    \"ARRAY_AGG(DISTINCT sub) as subject_list \"\n",
    "    \"GROUP BY datatype \"\n",
    "    \"ORDER BY total_files DESC\",\n",
    "    format=\"json\"\n",
    ")"
   ]
  },
  {
   "cell_type": "markdown",
   "metadata": {},
   "source": [
    "## Part 7: Participant Information\n",
    "\n",
    "Access participant demographics using the `participants.` namespace:"
   ]
  },
  {
   "cell_type": "code",
   "execution_count": null,
   "metadata": {
    "execution": {
     "iopub.execute_input": "2025-06-30T23:20:51.847249Z",
     "iopub.status.busy": "2025-06-30T23:20:51.846841Z",
     "iopub.status.idle": "2025-06-30T23:20:51.852929Z",
     "shell.execute_reply": "2025-06-30T23:20:51.852514Z"
    }
   },
   "outputs": [],
   "source": [
    "q.run_query(\n",
    "    \"SELECT DISTINCT sub, participants.age, participants.sex\",\n",
    "    format=\"dataframe\"\n",
    ")"
   ]
  },
  {
   "cell_type": "code",
   "execution_count": null,
   "metadata": {
    "execution": {
     "iopub.execute_input": "2025-06-30T23:20:51.854698Z",
     "iopub.status.busy": "2025-06-30T23:20:51.854376Z",
     "iopub.status.idle": "2025-06-30T23:20:51.861194Z",
     "shell.execute_reply": "2025-06-30T23:20:51.860688Z"
    }
   },
   "outputs": [],
   "source": [
    "q.run_query(\n",
    "    \"SELECT sub, task, participants.age WHERE participants.age > 25\",\n",
    "    format=\"dataframe\"\n",
    ")"
   ]
  },
  {
   "cell_type": "markdown",
   "metadata": {},
   "source": [
    "## Part 8: Advanced Queries\n",
    "\n",
    "Let's combine multiple features for more complex queries:"
   ]
  },
  {
   "cell_type": "code",
   "execution_count": null,
   "metadata": {
    "execution": {
     "iopub.execute_input": "2025-06-30T23:20:51.862922Z",
     "iopub.status.busy": "2025-06-30T23:20:51.862708Z",
     "iopub.status.idle": "2025-06-30T23:20:51.868201Z",
     "shell.execute_reply": "2025-06-30T23:20:51.867621Z"
    }
   },
   "outputs": [],
   "source": [
    "q.run_query(\"\"\"\n",
    "    SELECT sub, ses, task, COUNT(*) as n_runs\n",
    "    WHERE datatype=func AND task != rest\n",
    "    GROUP BY sub, ses, task\n",
    "    HAVING COUNT(*) > 1\n",
    "    ORDER BY sub, task\n",
    "\"\"\", format=\"json\")"
   ]
  },
  {
   "cell_type": "code",
   "execution_count": null,
   "metadata": {
    "execution": {
     "iopub.execute_input": "2025-06-30T23:20:51.869758Z",
     "iopub.status.busy": "2025-06-30T23:20:51.869580Z",
     "iopub.status.idle": "2025-06-30T23:20:51.877154Z",
     "shell.execute_reply": "2025-06-30T23:20:51.876683Z"
    }
   },
   "outputs": [],
   "source": [
    "q.run_query(\"\"\"\n",
    "    SELECT sub, task,\n",
    "           ARRAY_AGG(filename WHERE suffix='bold') as imaging_files,\n",
    "           ARRAY_AGG(filename WHERE run='01') as run01_files,\n",
    "           ARRAY_AGG(filename WHERE run='02') as run02_files\n",
    "    WHERE datatype=func\n",
    "    GROUP BY sub, task\n",
    "\"\"\", format=\"table\")  # Using table format since arrays don't display well in dataframes"
   ]
  },
  {
   "cell_type": "markdown",
   "metadata": {},
   "source": [
    "## Part 9: Output Formats\n",
    "\n",
    "BIQL supports multiple output formats for different use cases:"
   ]
  },
  {
   "cell_type": "code",
   "execution_count": null,
   "metadata": {
    "execution": {
     "iopub.execute_input": "2025-06-30T23:20:51.878767Z",
     "iopub.status.busy": "2025-06-30T23:20:51.878593Z",
     "iopub.status.idle": "2025-06-30T23:20:51.882189Z",
     "shell.execute_reply": "2025-06-30T23:20:51.881709Z"
    }
   },
   "outputs": [],
   "source": [
    "sample_query = \"SELECT sub, task, run WHERE datatype=func AND sub=01\"\n",
    "\n",
    "print(q.run_query(sample_query, format=\"table\"))"
   ]
  },
  {
   "cell_type": "code",
   "execution_count": null,
   "metadata": {
    "execution": {
     "iopub.execute_input": "2025-06-30T23:20:51.884055Z",
     "iopub.status.busy": "2025-06-30T23:20:51.883585Z",
     "iopub.status.idle": "2025-06-30T23:20:51.887232Z",
     "shell.execute_reply": "2025-06-30T23:20:51.886652Z"
    }
   },
   "outputs": [],
   "source": [
    "print(q.run_query(sample_query, format=\"csv\"))"
   ]
  },
  {
   "cell_type": "code",
   "execution_count": null,
   "metadata": {
    "execution": {
     "iopub.execute_input": "2025-06-30T23:20:51.888837Z",
     "iopub.status.busy": "2025-06-30T23:20:51.888567Z",
     "iopub.status.idle": "2025-06-30T23:20:51.892768Z",
     "shell.execute_reply": "2025-06-30T23:20:51.892202Z"
    }
   },
   "outputs": [],
   "source": [
    "results_json = q.run_query(sample_query, format=\"json\")\n",
    "results_json[:2]  # Show first 2 entries"
   ]
  },
  {
   "cell_type": "code",
   "execution_count": null,
   "metadata": {
    "execution": {
     "iopub.execute_input": "2025-06-30T23:20:51.894493Z",
     "iopub.status.busy": "2025-06-30T23:20:51.894108Z",
     "iopub.status.idle": "2025-06-30T23:20:51.897135Z",
     "shell.execute_reply": "2025-06-30T23:20:51.896672Z"
    }
   },
   "outputs": [],
   "source": [
    "print(q.run_query(\"WHERE sub=01 AND suffix=T1w\", format=\"paths\"))"
   ]
  },
  {
   "cell_type": "code",
   "execution_count": null,
   "metadata": {
    "execution": {
     "iopub.execute_input": "2025-06-30T23:20:51.898917Z",
     "iopub.status.busy": "2025-06-30T23:20:51.898508Z",
     "iopub.status.idle": "2025-06-30T23:20:51.904914Z",
     "shell.execute_reply": "2025-06-30T23:20:51.904349Z"
    }
   },
   "outputs": [],
   "source": [
    "q.run_query(sample_query, format=\"dataframe\")"
   ]
  },
  {
   "cell_type": "markdown",
   "metadata": {},
   "source": [
    "## Part 10: Real-World Examples\n",
    "\n",
    "Let's look at some practical queries you might use in neuroimaging research:"
   ]
  },
  {
   "cell_type": "code",
   "execution_count": null,
   "metadata": {
    "execution": {
     "iopub.execute_input": "2025-06-30T23:20:51.906585Z",
     "iopub.status.busy": "2025-06-30T23:20:51.906325Z",
     "iopub.status.idle": "2025-06-30T23:20:51.911162Z",
     "shell.execute_reply": "2025-06-30T23:20:51.910588Z"
    }
   },
   "outputs": [],
   "source": [
    "q.run_query(\"\"\"\n",
    "    SELECT sub, \n",
    "           COUNT(*) as total_files,\n",
    "           COUNT(DISTINCT datatype) as datatypes,\n",
    "           ARRAY_AGG(DISTINCT datatype) as available_data\n",
    "    GROUP BY sub\n",
    "\"\"\", format=\"json\")"
   ]
  },
  {
   "cell_type": "code",
   "execution_count": null,
   "metadata": {
    "execution": {
     "iopub.execute_input": "2025-06-30T23:20:51.912831Z",
     "iopub.status.busy": "2025-06-30T23:20:51.912569Z",
     "iopub.status.idle": "2025-06-30T23:20:51.918034Z",
     "shell.execute_reply": "2025-06-30T23:20:51.917570Z"
    }
   },
   "outputs": [],
   "source": [
    "q.run_query(\"\"\"\n",
    "    SELECT sub, ses,\n",
    "           COUNT(*) as files_per_session,\n",
    "           ARRAY_AGG(DISTINCT task) as tasks_in_session\n",
    "    GROUP BY sub, ses\n",
    "\"\"\", format=\"json\")"
   ]
  },
  {
   "cell_type": "code",
   "execution_count": null,
   "metadata": {
    "execution": {
     "iopub.execute_input": "2025-06-30T23:20:51.919824Z",
     "iopub.status.busy": "2025-06-30T23:20:51.919414Z",
     "iopub.status.idle": "2025-06-30T23:20:51.924450Z",
     "shell.execute_reply": "2025-06-30T23:20:51.923888Z"
    }
   },
   "outputs": [],
   "source": [
    "q.run_query(\"\"\"\n",
    "    SELECT sub,\n",
    "           COUNT(DISTINCT task) as unique_tasks,\n",
    "           ARRAY_AGG(DISTINCT task) as completed_tasks,\n",
    "           COUNT(*) as total_functional_files\n",
    "    WHERE datatype=func\n",
    "    GROUP BY sub\n",
    "    HAVING COUNT(DISTINCT task) > 1  # Subjects with multiple tasks\n",
    "\"\"\", format=\"json\")"
   ]
  },
  {
   "cell_type": "markdown",
   "metadata": {},
   "source": [
    "## Summary\n",
    "\n",
    "You've learned how to:\n",
    "\n",
    "1. **Basic queries**: Filter by BIDS entities\n",
    "2. **Logical operators**: Combine conditions with AND, OR, NOT\n",
    "3. **SELECT clause**: Choose specific fields to return\n",
    "4. **Pattern matching**: Use wildcards and regex\n",
    "5. **Ranges and lists**: Query multiple values efficiently\n",
    "6. **Aggregations**: Count and group data\n",
    "7. **Metadata queries**: Access JSON sidecar information\n",
    "8. **Participant data**: Query demographics\n",
    "9. **Complex queries**: Combine multiple features\n",
    "10. **Output formats**: Export results in different formats\n",
    "\n",
    "## Next Steps\n",
    "\n",
    "- Check out the [Language Reference](language.md) for complete syntax details\n",
    "- Explore more [examples](../examples/) for specific use cases\n",
    "- Use the CLI tool `biql` for command-line queries\n",
    "- Integrate BIQL into your Python analysis pipelines\n",
    "\n",
    "Happy querying!"
   ]
  }
 ],
 "metadata": {
  "kernelspec": {
   "display_name": "Python 3",
   "language": "python",
   "name": "python3"
  },
  "language_info": {
   "codemirror_mode": {
    "name": "ipython",
    "version": 3
   },
   "file_extension": ".py",
   "mimetype": "text/x-python",
   "name": "python",
   "nbconvert_exporter": "python",
   "pygments_lexer": "ipython3",
   "version": "3.11.13"
  }
 },
 "nbformat": 4,
 "nbformat_minor": 4
}
